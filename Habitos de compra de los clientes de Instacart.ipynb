{
 "cells": [
  {
   "cell_type": "markdown",
   "id": "3Xg_RQfnafXz",
   "metadata": {
    "id": "3Xg_RQfnafXz"
   },
   "source": [
    "# 🛒 ¡Llena ese carrito!"
   ]
  },
  {
   "cell_type": "markdown",
   "id": "mhIvmmkW414q",
   "metadata": {
    "id": "mhIvmmkW414q"
   },
   "source": [
    "# Introducción\n",
    "\n",
    "Instacart es una plataforma de entregas de comestibles donde la clientela puede registrar un pedido y hacer que se lo entreguen, similar a Uber Eats y Door Dash.\n",
    "El conjunto de datos tiene modificaciones del original. Se redujo el tamaño del conjunto para que los cálculos se hicieran más rápido y se introdujeron valores ausentes y duplicados. Tuvimos cuidado de conservar las distribuciones de los datos originales cuando hicimos los cambios.\n"
   ]
  },
  {
   "cell_type": "markdown",
   "id": "3MbyzpOQZ5Or",
   "metadata": {
    "id": "3MbyzpOQZ5Or"
   },
   "source": [
    "## 🗂️ Diccionario de datos\n",
    "\n",
    "Hay cinco tablas en el conjunto de datos, que se usaron para hacer el preprocesamiento de datos y el análisis exploratorio de datos. A continuación se muestra un diccionario de datos que enumera las columnas de cada tabla y describe los datos que contienen.\n",
    "\n",
    "- `instacart_orders.csv`: cada fila corresponde a un pedido en la aplicación Instacart.\n",
    "    - `'order_id'`: número de ID que identifica de manera única cada pedido.\n",
    "    - `'user_id'`: número de ID que identifica de manera única la cuenta de cada cliente.\n",
    "    - `'order_number'`: el número de veces que este cliente ha hecho un pedido.\n",
    "    - `'order_dow'`: día de la semana en que se hizo el pedido (0 si es domingo).\n",
    "    - `'order_hour_of_day'`: hora del día en que se hizo el pedido.\n",
    "    - `'days_since_prior_order'`: número de días transcurridos desde que este cliente hizo su pedido anterior.\n",
    "- `products.csv`: cada fila corresponde a un producto único que pueden comprar los clientes.\n",
    "    - `'product_id'`: número ID que identifica de manera única cada producto.\n",
    "    - `'product_name'`: nombre del producto.\n",
    "    - `'aisle_id'`: número ID que identifica de manera única cada categoría de pasillo de víveres.\n",
    "    - `'department_id'`: número ID que identifica de manera única cada departamento de víveres.\n",
    "- `order_products.csv`: cada fila corresponde a un artículo pedido en un pedido.\n",
    "    - `'order_id'`: número de ID que identifica de manera única cada pedido.\n",
    "    - `'product_id'`: número ID que identifica de manera única cada producto.\n",
    "    - `'add_to_cart_order'`: el orden secuencial en el que se añadió cada artículo en el carrito.\n",
    "    - `'reordered'`: 0 si el cliente nunca ha pedido este producto antes, 1 si lo ha pedido.\n",
    "- `aisles.csv`\n",
    "    - `'aisle_id'`: número ID que identifica de manera única cada categoría de pasillo de víveres.\n",
    "    - `'aisle'`: nombre del pasillo.\n",
    "- `departments.csv`\n",
    "    - `'department_id'`: número ID que identifica de manera única cada departamento de víveres.\n",
    "    - `'department'`: nombre del departamento."
   ]
  },
  {
   "cell_type": "markdown",
   "id": "n3Ha_cNSZ8lK",
   "metadata": {
    "id": "n3Ha_cNSZ8lK"
   },
   "source": [
    "# 🔍 Paso 1. Descripción de los datos\n",
    "\n",
    "Leer los archivos de datos (`/datasets/instacart_orders.csv`, `/datasets/products.csv`, `/datasets/aisles.csv`, `/datasets/departments.csv` y `/datasets/order_products.csv`) con `pd.read_csv()` usando los parámetros adecuados para leer los datos correctamente. Verificar la información para cada DataFrame creado.\n"
   ]
  },
  {
   "cell_type": "markdown",
   "id": "OmlQPLlyaAfR",
   "metadata": {
    "id": "OmlQPLlyaAfR"
   },
   "source": [
    "## 🧾 Plan de solución\n",
    "\n",
    "Paso 1. Descripción de los datos.\n",
    "\n",
    "1. Importar las librerias\n",
    "2. Cargar los datasets"
   ]
  },
  {
   "cell_type": "code",
   "execution_count": 73,
   "id": "fbf1adab",
   "metadata": {
    "id": "fbf1adab"
   },
   "outputs": [],
   "source": [
    "# importar librerías\n",
    "import pandas as pd              # Manipulación de datos\n",
    "import numpy as np               # Operaciones numéricas\n",
    "import matplotlib.pyplot as plt  # Gráficos"
   ]
  },
  {
   "cell_type": "code",
   "execution_count": 74,
   "id": "ad36396d",
   "metadata": {
    "id": "ad36396d"
   },
   "outputs": [],
   "source": [
    "# leer conjuntos de datos en los DataFrames\n",
    "df_instacart = pd.read_csv(\"C:/Users/APC/Documents/tripleten/Sprint 4/datasets/instacart_orders.csv\", sep= \";\")\n",
    "df_products = pd.read_csv(\"C:/Users/APC/Documents/tripleten/Sprint 4/datasets/products.csv\", sep= \";\")\n",
    "df_aisles = pd.read_csv(\"C:/Users/APC/Documents/tripleten/Sprint 4/datasets/aisles.csv\",sep= \";\")\n",
    "df_departments = pd.read_csv(\"C:/Users/APC/Documents/tripleten/Sprint 4/datasets/departments.csv\",sep= \";\")\n",
    "df_order = pd.read_csv(\"C:/Users/APC/Documents/tripleten/Sprint 4/datasets/order_products.csv\",sep= \";\")"
   ]
  },
  {
   "cell_type": "code",
   "execution_count": 75,
   "id": "ad6a1efa",
   "metadata": {
    "id": "ad6a1efa"
   },
   "outputs": [
    {
     "name": "stdout",
     "output_type": "stream",
     "text": [
      "<class 'pandas.core.frame.DataFrame'>\n",
      "RangeIndex: 478967 entries, 0 to 478966\n",
      "Data columns (total 6 columns):\n",
      " #   Column                  Non-Null Count   Dtype  \n",
      "---  ------                  --------------   -----  \n",
      " 0   order_id                478967 non-null  int64  \n",
      " 1   user_id                 478967 non-null  int64  \n",
      " 2   order_number            478967 non-null  int64  \n",
      " 3   order_dow               478967 non-null  int64  \n",
      " 4   order_hour_of_day       478967 non-null  int64  \n",
      " 5   days_since_prior_order  450148 non-null  float64\n",
      "dtypes: float64(1), int64(5)\n",
      "memory usage: 21.9 MB\n"
     ]
    }
   ],
   "source": [
    "# mostrar información del DataFrame\n",
    "df_instacart.info()"
   ]
  },
  {
   "cell_type": "code",
   "execution_count": 76,
   "id": "5130e05e",
   "metadata": {
    "id": "5130e05e"
   },
   "outputs": [
    {
     "name": "stdout",
     "output_type": "stream",
     "text": [
      "<class 'pandas.core.frame.DataFrame'>\n",
      "RangeIndex: 49694 entries, 0 to 49693\n",
      "Data columns (total 4 columns):\n",
      " #   Column         Non-Null Count  Dtype \n",
      "---  ------         --------------  ----- \n",
      " 0   product_id     49694 non-null  int64 \n",
      " 1   product_name   48436 non-null  object\n",
      " 2   aisle_id       49694 non-null  int64 \n",
      " 3   department_id  49694 non-null  int64 \n",
      "dtypes: int64(3), object(1)\n",
      "memory usage: 1.5+ MB\n"
     ]
    }
   ],
   "source": [
    "# mostrar información del DataFrame\n",
    "df_products.info()"
   ]
  },
  {
   "cell_type": "code",
   "execution_count": 77,
   "id": "d8370c05",
   "metadata": {
    "id": "d8370c05"
   },
   "outputs": [
    {
     "name": "stdout",
     "output_type": "stream",
     "text": [
      "<class 'pandas.core.frame.DataFrame'>\n",
      "RangeIndex: 134 entries, 0 to 133\n",
      "Data columns (total 2 columns):\n",
      " #   Column    Non-Null Count  Dtype \n",
      "---  ------    --------------  ----- \n",
      " 0   aisle_id  134 non-null    int64 \n",
      " 1   aisle     134 non-null    object\n",
      "dtypes: int64(1), object(1)\n",
      "memory usage: 2.2+ KB\n"
     ]
    }
   ],
   "source": [
    "# mostrar información del DataFrame\n",
    "df_aisles.info()"
   ]
  },
  {
   "cell_type": "code",
   "execution_count": 78,
   "id": "59e2090f",
   "metadata": {
    "id": "59e2090f"
   },
   "outputs": [
    {
     "name": "stdout",
     "output_type": "stream",
     "text": [
      "<class 'pandas.core.frame.DataFrame'>\n",
      "RangeIndex: 21 entries, 0 to 20\n",
      "Data columns (total 2 columns):\n",
      " #   Column         Non-Null Count  Dtype \n",
      "---  ------         --------------  ----- \n",
      " 0   department_id  21 non-null     int64 \n",
      " 1   department     21 non-null     object\n",
      "dtypes: int64(1), object(1)\n",
      "memory usage: 468.0+ bytes\n"
     ]
    }
   ],
   "source": [
    "# mostrar información del DataFrame\n",
    "df_departments.info()"
   ]
  },
  {
   "cell_type": "code",
   "execution_count": 79,
   "id": "6fc81694",
   "metadata": {
    "id": "6fc81694"
   },
   "outputs": [
    {
     "name": "stdout",
     "output_type": "stream",
     "text": [
      "<class 'pandas.core.frame.DataFrame'>\n",
      "RangeIndex: 4545007 entries, 0 to 4545006\n",
      "Data columns (total 4 columns):\n",
      " #   Column             Dtype  \n",
      "---  ------             -----  \n",
      " 0   order_id           int64  \n",
      " 1   product_id         int64  \n",
      " 2   add_to_cart_order  float64\n",
      " 3   reordered          int64  \n",
      "dtypes: float64(1), int64(3)\n",
      "memory usage: 138.7 MB\n"
     ]
    }
   ],
   "source": [
    "# mostrar información del DataFrame\n",
    "df_order.info()"
   ]
  },
  {
   "cell_type": "markdown",
   "id": "t75BD19oaR5f",
   "metadata": {
    "id": "t75BD19oaR5f"
   },
   "source": [
    "## 📌 Conclusiones\n",
    "\n",
    "Paso 1. Descripción de los datos.\n",
    "\n",
    "Los archivos no fueron leídos correctamente como CSV delimitado por comas, sino como un solo string, esto indica que el separador usado en el archivo es punto y coma, y no coma que es el valor predeterminado, por lo que se debio usar el argumento sep=';' para corregir el error.\n"
   ]
  },
  {
   "cell_type": "markdown",
   "id": "8RJHqxVmaVsF",
   "metadata": {
    "id": "8RJHqxVmaVsF"
   },
   "source": [
    "# 🧹 Paso 2. Preprocesamiento de los datos\n",
    "\n",
    "Se preprocesaron los datos de la siguiente manera:\n",
    "\n",
    "- Se verifica y corrige los tipos de datos (por ejemplo, se asegúra que las columnas de ID sean números enteros).\n",
    "- Se identifica y completa los valores ausentes.\n",
    "- Se identifica y elimina los valores duplicados."
   ]
  },
  {
   "cell_type": "markdown",
   "id": "p6poABZQaZYb",
   "metadata": {
    "id": "p6poABZQaZYb"
   },
   "source": [
    "## 🧾 Plan de solución\n",
    "\n",
    "Paso 2. Preprocesamiento de los datos.\n",
    "\n",
    "1. Se usa el metodo duplicated() para identificar filas duplicadas\n",
    "2. Se Muestran las filas duplicadas con len()"
   ]
  },
  {
   "cell_type": "markdown",
   "id": "07357848-dc64-4156-9cc3-01ff4365226d",
   "metadata": {
    "id": "07357848-dc64-4156-9cc3-01ff4365226d"
   },
   "source": [
    "## 🧹 Encontrar y eliminar los valores duplicados."
   ]
  },
  {
   "cell_type": "markdown",
   "id": "f179f0a9",
   "metadata": {
    "id": "f179f0a9"
   },
   "source": [
    "### `orders` data frame"
   ]
  },
  {
   "cell_type": "code",
   "execution_count": 80,
   "id": "b99297a5-405a-463d-8535-9adc3da4ad74",
   "metadata": {
    "id": "b99297a5-405a-463d-8535-9adc3da4ad74"
   },
   "outputs": [
    {
     "name": "stdout",
     "output_type": "stream",
     "text": [
      "Número total de filas duplicadas: 15\n"
     ]
    },
    {
     "data": {
      "text/html": [
       "<div>\n",
       "<style scoped>\n",
       "    .dataframe tbody tr th:only-of-type {\n",
       "        vertical-align: middle;\n",
       "    }\n",
       "\n",
       "    .dataframe tbody tr th {\n",
       "        vertical-align: top;\n",
       "    }\n",
       "\n",
       "    .dataframe thead th {\n",
       "        text-align: right;\n",
       "    }\n",
       "</style>\n",
       "<table border=\"1\" class=\"dataframe\">\n",
       "  <thead>\n",
       "    <tr style=\"text-align: right;\">\n",
       "      <th></th>\n",
       "      <th>order_id</th>\n",
       "      <th>user_id</th>\n",
       "      <th>order_number</th>\n",
       "      <th>order_dow</th>\n",
       "      <th>order_hour_of_day</th>\n",
       "      <th>days_since_prior_order</th>\n",
       "    </tr>\n",
       "  </thead>\n",
       "  <tbody>\n",
       "    <tr>\n",
       "      <th>145574</th>\n",
       "      <td>794638</td>\n",
       "      <td>50898</td>\n",
       "      <td>24</td>\n",
       "      <td>3</td>\n",
       "      <td>2</td>\n",
       "      <td>2.0</td>\n",
       "    </tr>\n",
       "    <tr>\n",
       "      <th>223105</th>\n",
       "      <td>2160484</td>\n",
       "      <td>107525</td>\n",
       "      <td>16</td>\n",
       "      <td>3</td>\n",
       "      <td>2</td>\n",
       "      <td>30.0</td>\n",
       "    </tr>\n",
       "    <tr>\n",
       "      <th>230807</th>\n",
       "      <td>1918001</td>\n",
       "      <td>188546</td>\n",
       "      <td>14</td>\n",
       "      <td>3</td>\n",
       "      <td>2</td>\n",
       "      <td>16.0</td>\n",
       "    </tr>\n",
       "    <tr>\n",
       "      <th>266232</th>\n",
       "      <td>1782114</td>\n",
       "      <td>106752</td>\n",
       "      <td>1</td>\n",
       "      <td>3</td>\n",
       "      <td>2</td>\n",
       "      <td>NaN</td>\n",
       "    </tr>\n",
       "    <tr>\n",
       "      <th>273805</th>\n",
       "      <td>1112182</td>\n",
       "      <td>202304</td>\n",
       "      <td>84</td>\n",
       "      <td>3</td>\n",
       "      <td>2</td>\n",
       "      <td>6.0</td>\n",
       "    </tr>\n",
       "  </tbody>\n",
       "</table>\n",
       "</div>"
      ],
      "text/plain": [
       "        order_id  user_id  order_number  order_dow  order_hour_of_day  \\\n",
       "145574    794638    50898            24          3                  2   \n",
       "223105   2160484   107525            16          3                  2   \n",
       "230807   1918001   188546            14          3                  2   \n",
       "266232   1782114   106752             1          3                  2   \n",
       "273805   1112182   202304            84          3                  2   \n",
       "\n",
       "        days_since_prior_order  \n",
       "145574                     2.0  \n",
       "223105                    30.0  \n",
       "230807                    16.0  \n",
       "266232                     NaN  \n",
       "273805                     6.0  "
      ]
     },
     "execution_count": 80,
     "metadata": {},
     "output_type": "execute_result"
    }
   ],
   "source": [
    "# Revisa si hay pedidos duplicados\n",
    "\n",
    "# Verificar si hay filas completamente duplicadas\n",
    "filas_duplicadas = df_instacart[df_instacart.duplicated()]\n",
    "\n",
    "# Mostrar el número total de duplicados\n",
    "num_duplicados = len(filas_duplicadas)\n",
    "\n",
    "# Mostrar primeras filas duplicadas  \n",
    "print(\"Número total de filas duplicadas:\",num_duplicados)\n",
    "filas_duplicadas.head()"
   ]
  },
  {
   "cell_type": "markdown",
   "id": "PEkwUX_gvt5A",
   "metadata": {
    "id": "PEkwUX_gvt5A"
   },
   "source": [
    "Se repiten 15 filas, que tienen en comun que se repiten los mismos datos en todas las columnas"
   ]
  },
  {
   "cell_type": "code",
   "execution_count": 81,
   "id": "0d44de5d",
   "metadata": {
    "id": "0d44de5d"
   },
   "outputs": [
    {
     "name": "stdout",
     "output_type": "stream",
     "text": [
      "Número de pedidos realizados el miércoles a las 2:00 a.m.: 121\n"
     ]
    }
   ],
   "source": [
    "# Basándote en tus hallazgos,\n",
    "# Verifica todos los pedidos que se hicieron el miércoles a las 2:00 a.m.\n",
    "\n",
    "# Filtrar pedidos del miércoles (día 3) a las 2:00 a.m.\n",
    "orders_miercoles = df_instacart[(df_instacart[\"order_dow\"] == 3) & (df_instacart[\"order_hour_of_day\"] == 2)]\n",
    "\n",
    "# Mostrar el número total de pedidos\n",
    "print(\"Número de pedidos realizados el miércoles a las 2:00 a.m.:\", len(orders_miercoles))"
   ]
  },
  {
   "cell_type": "markdown",
   "id": "vu2OWyoqwOx5",
   "metadata": {
    "id": "vu2OWyoqwOx5"
   },
   "source": [
    "¿Qué sugiere este resultado?\n",
    "\n",
    "Podria deberse a habitos de compra nocturnos o a un error en la captura de los datos de hora"
   ]
  },
  {
   "cell_type": "code",
   "execution_count": 82,
   "id": "480563c7",
   "metadata": {
    "id": "480563c7"
   },
   "outputs": [],
   "source": [
    "# Elimina los pedidos duplicados\n",
    "df_instacart = df_instacart.drop_duplicates()"
   ]
  },
  {
   "cell_type": "code",
   "execution_count": 83,
   "id": "0b2396a2",
   "metadata": {
    "id": "0b2396a2",
    "scrolled": true
   },
   "outputs": [
    {
     "name": "stdout",
     "output_type": "stream",
     "text": [
      "Número de filas duplicadas: order_id                  0.0\n",
      "user_id                   0.0\n",
      "order_number              0.0\n",
      "order_dow                 0.0\n",
      "order_hour_of_day         0.0\n",
      "days_since_prior_order    0.0\n",
      "dtype: float64\n"
     ]
    }
   ],
   "source": [
    "# Vuelve a verificar si hay filas duplicadas\n",
    "filas_duplicadas = df_instacart[df_instacart.duplicated()]\n",
    "\n",
    "# sumar filas duplicadas quedan\n",
    "sum_duplicados = filas_duplicadas.sum()\n",
    "print(\"Número de filas duplicadas:\", sum_duplicados)"
   ]
  },
  {
   "cell_type": "code",
   "execution_count": 84,
   "id": "f6113ef1",
   "metadata": {
    "id": "f6113ef1"
   },
   "outputs": [
    {
     "name": "stdout",
     "output_type": "stream",
     "text": [
      "Número total de order_id duplicados: 0\n",
      "No se encontraron order_id duplicados.\n"
     ]
    }
   ],
   "source": [
    "# Vuelve a verificar únicamente si hay IDs duplicados de pedidos\n",
    "id_duplicados = df_instacart[df_instacart.duplicated(\"order_id\", keep=False)]\n",
    "\n",
    "# Mostrar resultados\n",
    "print(f\"Número total de order_id duplicados: {len(id_duplicados)}\")\n",
    "if len(id_duplicados) > 0:\n",
    "    print(\"\\nPedidos duplicados por order_id:\")\n",
    "    print(id_duplicados.sort_values(by=\"order_id\").to_string(index=False))\n",
    "else:\n",
    "    print(\"No se encontraron order_id duplicados.\")"
   ]
  },
  {
   "cell_type": "markdown",
   "id": "5e8905ae",
   "metadata": {
    "id": "5e8905ae"
   },
   "source": [
    "### 📌 Descripcion breve de hallazgos\n",
    "\n",
    "Se encontraron 15 filas duplicadas, se eliminaron los duplicados y se verifico nuevamente que no hubieran mas filas con duplicados, tambien se encontro que exixten 121 pedidos realizados los dias miercoles a las 2 am."
   ]
  },
  {
   "cell_type": "markdown",
   "id": "45e6bc46",
   "metadata": {
    "id": "45e6bc46"
   },
   "source": [
    "### `products` data frame"
   ]
  },
  {
   "cell_type": "code",
   "execution_count": 85,
   "id": "5f526b5b-8175-46fa-a0fd-441767d50e64",
   "metadata": {
    "id": "5f526b5b-8175-46fa-a0fd-441767d50e64"
   },
   "outputs": [
    {
     "name": "stdout",
     "output_type": "stream",
     "text": [
      "Número total de filas duplicadas: 0\n"
     ]
    },
    {
     "data": {
      "text/html": [
       "<div>\n",
       "<style scoped>\n",
       "    .dataframe tbody tr th:only-of-type {\n",
       "        vertical-align: middle;\n",
       "    }\n",
       "\n",
       "    .dataframe tbody tr th {\n",
       "        vertical-align: top;\n",
       "    }\n",
       "\n",
       "    .dataframe thead th {\n",
       "        text-align: right;\n",
       "    }\n",
       "</style>\n",
       "<table border=\"1\" class=\"dataframe\">\n",
       "  <thead>\n",
       "    <tr style=\"text-align: right;\">\n",
       "      <th></th>\n",
       "      <th>product_id</th>\n",
       "      <th>product_name</th>\n",
       "      <th>aisle_id</th>\n",
       "      <th>department_id</th>\n",
       "    </tr>\n",
       "  </thead>\n",
       "  <tbody>\n",
       "  </tbody>\n",
       "</table>\n",
       "</div>"
      ],
      "text/plain": [
       "Empty DataFrame\n",
       "Columns: [product_id, product_name, aisle_id, department_id]\n",
       "Index: []"
      ]
     },
     "execution_count": 85,
     "metadata": {},
     "output_type": "execute_result"
    }
   ],
   "source": [
    "# Verifica si hay filas totalmente duplicadas\n",
    "\n",
    "filas_duplicadas = df_products[df_products.duplicated()]\n",
    "\n",
    "# Mostrar el número total de duplicados\n",
    "num_duplicados = len(filas_duplicadas)\n",
    "\n",
    "# Mostrar primeras filas duplicadas  \n",
    "print(\"Número total de filas duplicadas:\",num_duplicados)\n",
    "filas_duplicadas.head()\n"
   ]
  },
  {
   "cell_type": "code",
   "execution_count": 86,
   "id": "88daa4f4",
   "metadata": {
    "id": "88daa4f4"
   },
   "outputs": [
    {
     "name": "stdout",
     "output_type": "stream",
     "text": [
      "Número de ID de producto duplicados: 0\n",
      "Empty DataFrame\n",
      "Columns: [product_id, product_name, aisle_id, department_id]\n",
      "Index: []\n"
     ]
    }
   ],
   "source": [
    "# Revisa únicamente si hay ID de productos duplicados\n",
    "\n",
    "duplicated_id = df_products[df_products.duplicated(subset='product_id', keep=False)]\n",
    "print(\"Número de ID de producto duplicados:\", duplicated_id['product_id'].nunique())\n",
    "print(duplicated_id)"
   ]
  },
  {
   "cell_type": "code",
   "execution_count": 87,
   "id": "c773f0bf",
   "metadata": {
    "id": "c773f0bf"
   },
   "outputs": [
    {
     "name": "stdout",
     "output_type": "stream",
     "text": [
      "Número total de nombres de productos duplicados encontrados: 1465\n"
     ]
    }
   ],
   "source": [
    "# Revisa únicamente si hay nombres duplicados de productos (convierte los nombres a letras mayúsculas para compararlos mejor)\n",
    "\n",
    "# Convertir los nombres de producto a mayúsculas\n",
    "df_products[\"product_name_upper\"] = df_products[\"product_name\"].str.upper()\n",
    "\n",
    "# Verificar si hay nombres duplicados en mayúsculas\n",
    "duplicated_names = df_products[df_products[\"product_name_upper\"].duplicated(keep=False)]\n",
    "\n",
    "# Mostrar resultados\n",
    "total_duplicates = len(duplicated_names)\n",
    "\n",
    "if total_duplicates > 0:\n",
    "    print(f\"Número total de nombres de productos duplicados encontrados: {total_duplicates}\")\n",
    "else:\n",
    "    print(\"No se encontraron nombres duplicados de productos.\")"
   ]
  },
  {
   "cell_type": "code",
   "execution_count": 88,
   "id": "01efd02e",
   "metadata": {
    "id": "01efd02e"
   },
   "outputs": [
    {
     "name": "stdout",
     "output_type": "stream",
     "text": [
      "Número total de nombres de productos duplicados no faltantes: 207\n"
     ]
    }
   ],
   "source": [
    "# Revisa si hay nombres duplicados de productos no faltantes\n",
    "\n",
    "# Eliminar filas con product_name vacío\n",
    "df_products = df_products[df_products[\"product_name\"].notna() & (df_products[\"product_name\"] != \"\")]\n",
    "\n",
    "# Convertir a mayúsculas para hacer comparacion\n",
    "df_products[\"product_name_upper\"] = df_products[\"product_name\"].str.upper()\n",
    "\n",
    "# Buscar duplicados en nombres de producto\n",
    "duplicated_names = df_products[df_products[\"product_name_upper\"].duplicated(keep=False)]\n",
    "\n",
    "total_duplicates = len(duplicated_names)\n",
    "\n",
    "if total_duplicates > 0:\n",
    "    print(f\"Número total de nombres de productos duplicados no faltantes: {total_duplicates}\")\n",
    "else:\n",
    "    print(\"No se encontraron nombres de productos duplicados.\")"
   ]
  },
  {
   "cell_type": "markdown",
   "id": "9da8d293",
   "metadata": {
    "id": "9da8d293"
   },
   "source": [
    "### 📌 Descripcion breve de hallazgos.\n",
    "\n",
    "1. No se encontraron filas duplicadas\n",
    "2. Se encontraron 207 nombres de productos duplicados, misma cantidad de productos duplicados no faltantes"
   ]
  },
  {
   "cell_type": "markdown",
   "id": "60f30db1",
   "metadata": {
    "id": "60f30db1"
   },
   "source": [
    "### `departments` data frame"
   ]
  },
  {
   "cell_type": "code",
   "execution_count": 89,
   "id": "fb410ad4-0fbf-4b80-bb09-23fdea79afe3",
   "metadata": {
    "id": "fb410ad4-0fbf-4b80-bb09-23fdea79afe3"
   },
   "outputs": [
    {
     "name": "stdout",
     "output_type": "stream",
     "text": [
      "Número total de filas duplicadas: 0\n"
     ]
    },
    {
     "data": {
      "text/html": [
       "<div>\n",
       "<style scoped>\n",
       "    .dataframe tbody tr th:only-of-type {\n",
       "        vertical-align: middle;\n",
       "    }\n",
       "\n",
       "    .dataframe tbody tr th {\n",
       "        vertical-align: top;\n",
       "    }\n",
       "\n",
       "    .dataframe thead th {\n",
       "        text-align: right;\n",
       "    }\n",
       "</style>\n",
       "<table border=\"1\" class=\"dataframe\">\n",
       "  <thead>\n",
       "    <tr style=\"text-align: right;\">\n",
       "      <th></th>\n",
       "      <th>department_id</th>\n",
       "      <th>department</th>\n",
       "    </tr>\n",
       "  </thead>\n",
       "  <tbody>\n",
       "  </tbody>\n",
       "</table>\n",
       "</div>"
      ],
      "text/plain": [
       "Empty DataFrame\n",
       "Columns: [department_id, department]\n",
       "Index: []"
      ]
     },
     "execution_count": 89,
     "metadata": {},
     "output_type": "execute_result"
    }
   ],
   "source": [
    "# Revisa si hay filas totalmente duplicadas\n",
    "filas_duplicadas = df_departments[df_departments.duplicated()]\n",
    "\n",
    "# Mostrar el número total de duplicados\n",
    "num_duplicados = len(filas_duplicadas)\n",
    "\n",
    "# Mostrar primeras filas duplicadas  \n",
    "print(\"Número total de filas duplicadas:\",num_duplicados)\n",
    "filas_duplicadas.head()"
   ]
  },
  {
   "cell_type": "code",
   "execution_count": 90,
   "id": "332b12bb",
   "metadata": {
    "id": "332b12bb"
   },
   "outputs": [
    {
     "name": "stdout",
     "output_type": "stream",
     "text": [
      "Número de ID de producto duplicados: 0\n",
      "Empty DataFrame\n",
      "Columns: [department_id, department]\n",
      "Index: []\n"
     ]
    }
   ],
   "source": [
    "# Revisa únicamente si hay IDs duplicadas de departamentos\n",
    "\n",
    "id_duplicado= df_departments[df_departments.duplicated(subset='department_id', keep=False)]\n",
    "print(\"Número de ID de producto duplicados:\", id_duplicado['department_id'].nunique())\n",
    "print(id_duplicado)"
   ]
  },
  {
   "cell_type": "markdown",
   "id": "bd30d78e",
   "metadata": {
    "id": "bd30d78e"
   },
   "source": [
    "### 📌 Descripcion breve de hallazgos.\n",
    "\n",
    "No se encontraron filas duplicadas, tampoco en la columna department_id hay duplicados"
   ]
  },
  {
   "cell_type": "markdown",
   "id": "889349c1",
   "metadata": {
    "id": "889349c1"
   },
   "source": [
    "### `aisles` data frame"
   ]
  },
  {
   "cell_type": "code",
   "execution_count": 91,
   "id": "9da89fb9-4679-40f5-ad0d-c34df753a3f8",
   "metadata": {
    "id": "9da89fb9-4679-40f5-ad0d-c34df753a3f8"
   },
   "outputs": [
    {
     "name": "stdout",
     "output_type": "stream",
     "text": [
      "Número total de filas duplicadas: 0\n"
     ]
    },
    {
     "data": {
      "text/html": [
       "<div>\n",
       "<style scoped>\n",
       "    .dataframe tbody tr th:only-of-type {\n",
       "        vertical-align: middle;\n",
       "    }\n",
       "\n",
       "    .dataframe tbody tr th {\n",
       "        vertical-align: top;\n",
       "    }\n",
       "\n",
       "    .dataframe thead th {\n",
       "        text-align: right;\n",
       "    }\n",
       "</style>\n",
       "<table border=\"1\" class=\"dataframe\">\n",
       "  <thead>\n",
       "    <tr style=\"text-align: right;\">\n",
       "      <th></th>\n",
       "      <th>aisle_id</th>\n",
       "      <th>aisle</th>\n",
       "    </tr>\n",
       "  </thead>\n",
       "  <tbody>\n",
       "  </tbody>\n",
       "</table>\n",
       "</div>"
      ],
      "text/plain": [
       "Empty DataFrame\n",
       "Columns: [aisle_id, aisle]\n",
       "Index: []"
      ]
     },
     "execution_count": 91,
     "metadata": {},
     "output_type": "execute_result"
    }
   ],
   "source": [
    "# Revisa si hay filas totalmente duplicadas\n",
    "\n",
    "filas_duplicadas = df_aisles[df_aisles.duplicated()]\n",
    "\n",
    "# Mostrar el número total de duplicados\n",
    "num_duplicados = len(filas_duplicadas)\n",
    "\n",
    "# Mostrar primeras filas duplicadas  \n",
    "print(\"Número total de filas duplicadas:\",num_duplicados)\n",
    "filas_duplicadas.head()"
   ]
  },
  {
   "cell_type": "code",
   "execution_count": 92,
   "id": "da7c2822",
   "metadata": {
    "id": "da7c2822"
   },
   "outputs": [
    {
     "name": "stdout",
     "output_type": "stream",
     "text": [
      "Número de ID de producto duplicados: 0\n",
      "Empty DataFrame\n",
      "Columns: [aisle_id, aisle]\n",
      "Index: []\n"
     ]
    }
   ],
   "source": [
    "# Revisa únicamente si hay IDs duplicadas de pasillos\n",
    "\n",
    "id_duplicado= df_aisles[df_aisles.duplicated(subset='aisle_id', keep=False)]\n",
    "print(\"Número de ID de producto duplicados:\", id_duplicado['aisle_id'].nunique())\n",
    "print(id_duplicado)"
   ]
  },
  {
   "cell_type": "markdown",
   "id": "ac63826f",
   "metadata": {
    "id": "ac63826f"
   },
   "source": [
    "### 📌 Descripcion breve de hallazgos.\n",
    "\n",
    "No se encontro filas duplicadas, tampoco valores en aisle_id duplicados"
   ]
  },
  {
   "cell_type": "markdown",
   "id": "274cd06a",
   "metadata": {
    "id": "274cd06a"
   },
   "source": [
    "### `order_products` data frame"
   ]
  },
  {
   "cell_type": "code",
   "execution_count": 93,
   "id": "52326689-84a8-4b8f-a881-7c68780f62c9",
   "metadata": {
    "id": "52326689-84a8-4b8f-a881-7c68780f62c9"
   },
   "outputs": [
    {
     "name": "stdout",
     "output_type": "stream",
     "text": [
      "Número total de filas duplicadas: 0\n"
     ]
    },
    {
     "data": {
      "text/html": [
       "<div>\n",
       "<style scoped>\n",
       "    .dataframe tbody tr th:only-of-type {\n",
       "        vertical-align: middle;\n",
       "    }\n",
       "\n",
       "    .dataframe tbody tr th {\n",
       "        vertical-align: top;\n",
       "    }\n",
       "\n",
       "    .dataframe thead th {\n",
       "        text-align: right;\n",
       "    }\n",
       "</style>\n",
       "<table border=\"1\" class=\"dataframe\">\n",
       "  <thead>\n",
       "    <tr style=\"text-align: right;\">\n",
       "      <th></th>\n",
       "      <th>order_id</th>\n",
       "      <th>product_id</th>\n",
       "      <th>add_to_cart_order</th>\n",
       "      <th>reordered</th>\n",
       "    </tr>\n",
       "  </thead>\n",
       "  <tbody>\n",
       "  </tbody>\n",
       "</table>\n",
       "</div>"
      ],
      "text/plain": [
       "Empty DataFrame\n",
       "Columns: [order_id, product_id, add_to_cart_order, reordered]\n",
       "Index: []"
      ]
     },
     "execution_count": 93,
     "metadata": {},
     "output_type": "execute_result"
    }
   ],
   "source": [
    "# Revisa si hay filas totalmente duplicadas\n",
    "filas_duplicadas = df_order[df_order.duplicated()]\n",
    "\n",
    "# Mostrar el número total de duplicados\n",
    "num_duplicados = len(filas_duplicadas)\n",
    "\n",
    "# Mostrar primeras filas duplicadas  \n",
    "print(\"Número total de filas duplicadas:\",num_duplicados)\n",
    "filas_duplicadas.head()"
   ]
  },
  {
   "cell_type": "code",
   "execution_count": 94,
   "id": "7b861391",
   "metadata": {
    "id": "7b861391"
   },
   "outputs": [
    {
     "name": "stdout",
     "output_type": "stream",
     "text": [
      "Número de duplicados engañosos en ('order_id', 'product_id'): 0\n"
     ]
    },
    {
     "data": {
      "text/html": [
       "<div>\n",
       "<style scoped>\n",
       "    .dataframe tbody tr th:only-of-type {\n",
       "        vertical-align: middle;\n",
       "    }\n",
       "\n",
       "    .dataframe tbody tr th {\n",
       "        vertical-align: top;\n",
       "    }\n",
       "\n",
       "    .dataframe thead th {\n",
       "        text-align: right;\n",
       "    }\n",
       "</style>\n",
       "<table border=\"1\" class=\"dataframe\">\n",
       "  <thead>\n",
       "    <tr style=\"text-align: right;\">\n",
       "      <th></th>\n",
       "      <th>order_id</th>\n",
       "      <th>product_id</th>\n",
       "      <th>add_to_cart_order</th>\n",
       "      <th>reordered</th>\n",
       "    </tr>\n",
       "  </thead>\n",
       "  <tbody>\n",
       "  </tbody>\n",
       "</table>\n",
       "</div>"
      ],
      "text/plain": [
       "Empty DataFrame\n",
       "Columns: [order_id, product_id, add_to_cart_order, reordered]\n",
       "Index: []"
      ]
     },
     "execution_count": 94,
     "metadata": {},
     "output_type": "execute_result"
    }
   ],
   "source": [
    "# Vuelve a verificar si hay cualquier otro duplicado engañoso\n",
    "\n",
    "# Verificar duplicados en la combinación de columnas clave\n",
    "duplicados_engañosos = df_order[df_order.duplicated(subset=['order_id', 'product_id'], keep=False)]\n",
    "\n",
    "# Mostrar el número de duplicados y las primeras filas\n",
    "print(f\"Número de duplicados engañosos en ('order_id', 'product_id'): {duplicados_engañosos.shape[0]}\")\n",
    "duplicados_engañosos.head()"
   ]
  },
  {
   "cell_type": "markdown",
   "id": "0b890492",
   "metadata": {
    "id": "0b890492"
   },
   "source": [
    "### 📌 Descripcion breve de hallazgos.\n",
    "\n",
    "No se encontraron duplicados engañosos"
   ]
  },
  {
   "cell_type": "markdown",
   "id": "1e46de76",
   "metadata": {
    "id": "1e46de76"
   },
   "source": [
    "## 🧹 Encontrar y eliminar los valores ausentes\n",
    "\n",
    "Al trabajar con valores duplicados, pudimos observar que también nos falta investigar valores ausentes:\n",
    "\n",
    "* La columna `'product_name'` de la tabla products.\n",
    "* La columna `'days_since_prior_order'` de la tabla orders.\n",
    "* La columna `'add_to_cart_order'` de la tabla order_productos."
   ]
  },
  {
   "cell_type": "markdown",
   "id": "c0aebd78",
   "metadata": {
    "id": "c0aebd78"
   },
   "source": [
    "### `products` data frame"
   ]
  },
  {
   "cell_type": "code",
   "execution_count": 95,
   "id": "fe4a8b0f",
   "metadata": {
    "id": "fe4a8b0f"
   },
   "outputs": [
    {
     "name": "stdout",
     "output_type": "stream",
     "text": [
      "Número de valores ausentes en 'product_name': 0\n"
     ]
    }
   ],
   "source": [
    "# Encuentra los valores ausentes en la columna 'product_name'\n",
    "\n",
    "valores_ausentes = df_products['product_name'].isna().sum()\n",
    "print(f\"Número de valores ausentes en 'product_name': {valores_ausentes}\")"
   ]
  },
  {
   "cell_type": "markdown",
   "id": "-A6x1AbJhjkp",
   "metadata": {
    "id": "-A6x1AbJhjkp"
   },
   "source": [
    "### 📌 Descripcion breve de hallazgos.\n",
    "\n",
    "Se encontraron 1258 valores ausentes en la columna product_name"
   ]
  },
  {
   "cell_type": "code",
   "execution_count": 96,
   "id": "e96167bc",
   "metadata": {
    "id": "e96167bc"
   },
   "outputs": [
    {
     "name": "stdout",
     "output_type": "stream",
     "text": [
      "¿Todos los productos con nombre ausente pertenecen al pasillo 100?: True\n",
      "Número total de filas con nombres ausentes: 0\n",
      "Empty DataFrame\n",
      "Columns: [product_id, product_name, aisle_id, department_id, product_name_upper]\n",
      "Index: []\n"
     ]
    }
   ],
   "source": [
    "#  ¿Todos los nombres de productos ausentes están relacionados con el pasillo con ID 100?\n",
    "\n",
    "# Filtrar las filas donde 'product_name' está ausente\n",
    "valores_ausentes = df_products[df_products['product_name'].isna()]\n",
    "\n",
    "# Verificar si todos los valores ausentes están en el pasillo con ID 100\n",
    "pasillo_100 = (valores_ausentes['aisle_id'] == 100).all()\n",
    "\n",
    "# Mostrar el resultado\n",
    "print(\"¿Todos los productos con nombre ausente pertenecen al pasillo 100?:\", pasillo_100)\n",
    "print(\"Número total de filas con nombres ausentes:\", valores_ausentes.shape[0])\n",
    "\n",
    "# Mostrar las filas con nombre ausente\n",
    "print(valores_ausentes)"
   ]
  },
  {
   "cell_type": "markdown",
   "id": "WRpIfXRphpSL",
   "metadata": {
    "id": "WRpIfXRphpSL"
   },
   "source": [
    "### 📌 Descripcion breve de hallazgos.\n",
    "\n",
    "Los 1258 valores ausentes estan relacionados al ID 100"
   ]
  },
  {
   "cell_type": "code",
   "execution_count": 97,
   "id": "8fd0a541",
   "metadata": {
    "id": "8fd0a541"
   },
   "outputs": [
    {
     "name": "stdout",
     "output_type": "stream",
     "text": [
      "¿Todos los productos con nombre ausente pertenecen al departamento 21?: True\n"
     ]
    }
   ],
   "source": [
    "# ¿Todos los nombres de productos ausentes están relacionados con el departamento con ID 21?\n",
    "\n",
    "# Verificar si todos los productos con nombre ausente tienen department_id igual a 21\n",
    "id_21 = (valores_ausentes['department_id'] == 21).all()\n",
    "\n",
    "# Mostrar el resultado\n",
    "print(\"¿Todos los productos con nombre ausente pertenecen al departamento 21?:\", id_21)"
   ]
  },
  {
   "cell_type": "markdown",
   "id": "qDpdYn1Fht_I",
   "metadata": {
    "id": "qDpdYn1Fht_I"
   },
   "source": [
    "### 📌 Descripcion breve de hallazgos.\n",
    "\n",
    "Efectivamente todos los productos con nombre ausente pertenecen al departamento 21"
   ]
  },
  {
   "cell_type": "code",
   "execution_count": 98,
   "id": "325c3464",
   "metadata": {
    "id": "325c3464"
   },
   "outputs": [
    {
     "name": "stdout",
     "output_type": "stream",
     "text": [
      "Pasillo con ID 100:\n",
      "    aisle_id    aisle\n",
      "99       100  missing\n",
      "\n",
      "Departamento con ID 21:\n",
      "    department_id department\n",
      "20             21    missing\n"
     ]
    }
   ],
   "source": [
    "# Usa las tablas department y aisle para revisar los datos del pasillo con ID 100 y el departamento con ID 21.\n",
    "\n",
    "# Buscar el pasillo con ID 100\n",
    "pasillo_100 = df_aisles[df_aisles['aisle_id'] == 100]\n",
    "\n",
    "# Buscar el departamento con ID 21\n",
    "departamento_21 = df_departments[df_departments['department_id'] == 21]\n",
    "\n",
    "# Mostrar ambos\n",
    "print(\"Pasillo con ID 100:\")\n",
    "print(pasillo_100)\n",
    "\n",
    "print(\"\\nDepartamento con ID 21:\")\n",
    "print(departamento_21)"
   ]
  },
  {
   "cell_type": "markdown",
   "id": "nqhSTUPhhvEJ",
   "metadata": {
    "id": "nqhSTUPhhvEJ"
   },
   "source": [
    "### 📌 Descripcion breve de hallazgos.\n",
    "\n",
    "1258 productos tienen valores ausentes en la columna 'product_name'.\n",
    "Todos estos productos están relacionados con: aisle_id = 100, cuyo nombre es \"missing\" y department_id = 21, cuyo nombre también es \"missing\"."
   ]
  },
  {
   "cell_type": "code",
   "execution_count": 99,
   "id": "6b295120",
   "metadata": {
    "id": "6b295120"
   },
   "outputs": [
    {
     "name": "stdout",
     "output_type": "stream",
     "text": [
      "Valores ausentes en 'product_name' después de asignar 'Unknown': 0\n"
     ]
    }
   ],
   "source": [
    "# Completa los nombres de productos ausentes con 'Unknown'\n",
    "\n",
    "# Completar los valores ausentes en 'product_name' con 'Unknown'\n",
    "df_products['product_name'] = df_products['product_name'].fillna('Unknown')\n",
    "\n",
    "# Verificar que ya no haya valores faltantes\n",
    "print(\"Valores ausentes en 'product_name' después de asignar 'Unknown':\", df_products['product_name'].isna().sum())"
   ]
  },
  {
   "cell_type": "markdown",
   "id": "fc70e5ad",
   "metadata": {
    "id": "fc70e5ad"
   },
   "source": [
    "### 📌 Descripcion breve de hallazgos.\n",
    "\n",
    "Se remplazaron los valores ausentes con 'Unknown' y se verifico nuevamente si existian valores ausentes "
   ]
  },
  {
   "cell_type": "markdown",
   "id": "7eb45c86",
   "metadata": {
    "id": "7eb45c86"
   },
   "source": [
    "### `orders` data frame"
   ]
  },
  {
   "cell_type": "code",
   "execution_count": 100,
   "id": "93e41d96",
   "metadata": {
    "id": "93e41d96"
   },
   "outputs": [
    {
     "name": "stdout",
     "output_type": "stream",
     "text": [
      "days_since_prior_order    28817\n",
      "dtype: int64\n"
     ]
    }
   ],
   "source": [
    "# Encuentra los valores ausentes\n",
    "\n",
    "# Verificar valores ausentes\n",
    "valores_ausentes = df_instacart.isna().sum()\n",
    "\n",
    "# Mostrar solo las columnas con valores faltantes\n",
    "print(valores_ausentes [valores_ausentes  > 0])\n"
   ]
  },
  {
   "cell_type": "code",
   "execution_count": 101,
   "id": "166e5a86",
   "metadata": {
    "id": "166e5a86"
   },
   "outputs": [
    {
     "name": "stdout",
     "output_type": "stream",
     "text": [
      "0\n",
      "Empty DataFrame\n",
      "Columns: [order_id, user_id, order_number, order_dow, order_hour_of_day, days_since_prior_order]\n",
      "Index: []\n"
     ]
    }
   ],
   "source": [
    "# ¿Hay algún valor ausente que no sea el primer pedido del cliente?\n",
    "\n",
    "# Filtrar las filas donde days_since_prior_order está ausente\n",
    "faltantes = df_instacart[df_instacart['days_since_prior_order'].isna()]\n",
    "\n",
    "# Verificar si alguno no es el primer pedido\n",
    "no_es_primer_pedido = faltantes[faltantes['order_number'] != 1]\n",
    "\n",
    "# Mostrar la cantidad y las primeras filas si las hubiera\n",
    "print(no_es_primer_pedido.shape[0])\n",
    "print(no_es_primer_pedido.head())\n"
   ]
  },
  {
   "cell_type": "markdown",
   "id": "4e23d089",
   "metadata": {
    "id": "4e23d089"
   },
   "source": [
    "### 📌 Descripcion breve de hallazgos.\n",
    "\n",
    "Todos los valores ausentes en la columna 'days_since_prior_order' corresponden al primer pedido de cada cliente"
   ]
  },
  {
   "cell_type": "markdown",
   "id": "69dc9ca4",
   "metadata": {
    "id": "69dc9ca4"
   },
   "source": [
    "### `order_products` data frame"
   ]
  },
  {
   "cell_type": "code",
   "execution_count": 102,
   "id": "b8240253",
   "metadata": {
    "id": "b8240253"
   },
   "outputs": [
    {
     "name": "stdout",
     "output_type": "stream",
     "text": [
      "add_to_cart_order    836\n",
      "dtype: int64\n",
      "order_id               0\n",
      "product_id             0\n",
      "add_to_cart_order    836\n",
      "reordered              0\n",
      "dtype: int64\n"
     ]
    }
   ],
   "source": [
    "# Encuentra los valores ausentes\n",
    "\n",
    "# Verificar valores ausentes\n",
    "valores_ausentes = df_order.isna().sum()\n",
    "\n",
    "# Mostrar solo las columnas con valores faltantes\n",
    "print(valores_ausentes [valores_ausentes  > 0])\n",
    "print(valores_ausentes)"
   ]
  },
  {
   "cell_type": "code",
   "execution_count": 103,
   "id": "9a78e5ee",
   "metadata": {
    "id": "9a78e5ee"
   },
   "outputs": [
    {
     "name": "stdout",
     "output_type": "stream",
     "text": [
      "El valor minimo es: 1.0\n",
      "El valor maximo es: 64.0\n"
     ]
    }
   ],
   "source": [
    "# ¿Cuáles son los valores mínimos y máximos en esta columna?\n",
    "\n",
    "min_value = df_order['add_to_cart_order'].min()\n",
    "max_value = df_order['add_to_cart_order'].max()\n",
    "\n",
    "print(\"El valor minimo es:\",min_value)\n",
    "print(\"El valor maximo es:\",max_value)"
   ]
  },
  {
   "cell_type": "markdown",
   "id": "-Z2Ja215jW78",
   "metadata": {
    "id": "-Z2Ja215jW78"
   },
   "source": [
    "### 📌 Descripcion breve de hallazgos.\n",
    "\n",
    "Se encontro que el pedido minimo fue de una unidad y el maximo de 64 unds"
   ]
  },
  {
   "cell_type": "code",
   "execution_count": 104,
   "id": "ab9d0c2b",
   "metadata": {
    "id": "ab9d0c2b"
   },
   "outputs": [
    {
     "name": "stdout",
     "output_type": "stream",
     "text": [
      "Pedidos con 'add_to_cart_order' ausente:\n",
      "[2449164 1968313 2926893 1717990 1959075  844733   61355  936852  264710\n",
      " 1564093  129627  293169 2849370 1386261 3308010  903110 2136777 3347453\n",
      " 1888628  165801 2094761 1038146 2997021  813364 2256933  171934 2409109\n",
      " 1730767 1169835  733526  404157 3125735  747668 1800005 1961723  871281\n",
      "  388234 1648217 1477139  102236 1021563 1832957 2721963  678116 1220886\n",
      " 1673227 2999801 1633337 2470674 2625444 1677118 2479011 3383594 1183255\n",
      " 1713430 2652650 1598369 1916118  854647 1302315  888470  180546 2621907\n",
      " 1308785 2729254    9310 2170451 2979697 1625713 1529171]\n"
     ]
    }
   ],
   "source": [
    "# Guarda todas las IDs de pedidos que tengan un valor ausente en 'add_to_cart_order'\n",
    "\n",
    "# Filtrar las filas donde 'add_to_cart_order' es NaN\n",
    "valor_ausente = df_order[df_order['add_to_cart_order'].isna()]\n",
    "\n",
    "# Mostrar los IDs de pedidos únicos con valores ausentes\n",
    "pedidos_unicos = valor_ausente['order_id'].unique()\n",
    "\n",
    "print(\"Pedidos con 'add_to_cart_order' ausente:\")\n",
    "print(pedidos_unicos)"
   ]
  },
  {
   "cell_type": "code",
   "execution_count": 143,
   "id": "54c31695",
   "metadata": {
    "id": "54c31695"
   },
   "outputs": [
    {
     "name": "stdout",
     "output_type": "stream",
     "text": [
      "¿Todos los pedidos con valores ausentes tienen más de 64 productos?: True\n",
      "    order_id  num_productos\n",
      "0       9310              1\n",
      "1      61355             63\n",
      "2     102236             31\n",
      "3     129627              5\n",
      "4     165801              6\n",
      "..       ...            ...\n",
      "65   2999801              6\n",
      "66   3125735             22\n",
      "67   3308010             51\n",
      "68   3347453              7\n",
      "69   3383594              5\n",
      "\n",
      "[70 rows x 2 columns]\n",
      "Valor mínimo de productos por pedido: 1\n"
     ]
    }
   ],
   "source": [
    "# ¿Todos los pedidos con valores ausentes tienen más de 64 productos?\n",
    "\n",
    "# Contar cuántos productos tiene cada pedido (con valores ausentes)\n",
    "product_counts = df_order[df_order['order_id'].isin(valor_ausente)].groupby('order_id').size()\n",
    "\n",
    "# Verificar si todos tienen más de 64 productos\n",
    "mas_64 = (product_counts > 64).all()\n",
    "\n",
    "print(\"¿Todos los pedidos con valores ausentes tienen más de 64 productos?:\", mas_64)\n",
    "\n",
    "# Agrupa todos los pedidos con datos ausentes por su ID de pedido.\n",
    "\n",
    "# Agrupar por 'order_id' y contar cuántos productos tiene cada pedido con datos ausentes\n",
    "group_order = valor_ausente.groupby('order_id').size().reset_index(name='num_productos')\n",
    "\n",
    "print(group_order)\n",
    "\n",
    "# Cuenta el número de 'product_id' en cada pedido y revisa el valor mínimo del conteo.\n",
    "df_order[df_order['order_id'].isin(pedidos_unicos)].groupby('order_id')['product_id'].count().min()\n",
    "\n",
    "# Contar cuántos 'product_id' hay en cada 'order_id'\n",
    "conteo_productos_por_pedido = df_order.groupby('order_id')['product_id'].count()\n",
    "\n",
    "# Obtener el valor mínimo del conteo\n",
    "min_productos_por_pedido = conteo_productos_por_pedido.min()\n",
    "\n",
    "print(\"Valor mínimo de productos por pedido:\", min_productos_por_pedido)"
   ]
  },
  {
   "cell_type": "markdown",
   "id": "p9V6pddtjglj",
   "metadata": {
    "id": "p9V6pddtjglj"
   },
   "source": [
    "### 📌 Descripcion breve de hallazgos.\n",
    "\n",
    "1. Se encontraron 836 valores ausentes en la columna add_to_cart_order\n",
    "2. El valor minimo fue: 1 y el valor maximo es 64\n",
    "3. En total 70 pedidos con valores ausentes"
   ]
  },
  {
   "cell_type": "code",
   "execution_count": 107,
   "id": "7a987d08",
   "metadata": {
    "id": "7a987d08"
   },
   "outputs": [
    {
     "name": "stdout",
     "output_type": "stream",
     "text": [
      "int64\n"
     ]
    }
   ],
   "source": [
    "# Remplaza los valores ausentes en la columna 'add_to_cart? con 999 y convierte la columna al tipo entero.\n",
    "\n",
    "# Reemplazar valores ausentes con 999\n",
    "df_order['add_to_cart_order'] = df_order['add_to_cart_order'].fillna(999)\n",
    "\n",
    "# Convertir la columna a tipo entero\n",
    "df_order['add_to_cart_order'] = df_order['add_to_cart_order'].astype(int)\n",
    "\n",
    "# Verificación del tipo de dato\n",
    "print(df_order['add_to_cart_order'].dtypes)"
   ]
  },
  {
   "cell_type": "markdown",
   "id": "fea4bcc7",
   "metadata": {
    "id": "fea4bcc7"
   },
   "source": [
    "### 📌 Descripcion breve de hallazgos.\n",
    "\n",
    "1. Los valores ausentes se reemplazaron por 999 para conservar las filas sin perder datos.\n",
    "2. La columna fue convertida al tipo de dato entero, lo cual es apropiado para representar posiciones en un carrito."
   ]
  },
  {
   "cell_type": "markdown",
   "id": "RnplPFY1gSrb",
   "metadata": {
    "id": "RnplPFY1gSrb"
   },
   "source": [
    "## 🧠 Conclusiones\n",
    "\n",
    "Conclusiones intermedias sobre el Paso 2. Preprocesamiento de los datos\n",
    "\n",
    "- Se encontraron 15 filas duplicadas, se eliminaron los duplicados y se verifico nuevamente que no hubieran mas filas con duplicados, tambien se encontro que exixten 121 pedidos realizados los dias miercoles a las 2 am.\n",
    "\n",
    "- Se encontraron 207 nombres de productos duplicados, misma cantidad de productos duplicados no faltantes\n",
    "\n",
    "- Se encontraron 1258 valores ausentes en la columna product_name, estos 1258 valores ausentes estan relacionados al ID 100\n",
    "Todos los productos con nombre ausente pertenecen al departamento 21\n",
    "\n",
    "- 1258 productos que tienen valores ausentes en la columna 'product_name' están relacionados con: aisle_id = 100, cuyo nombre es \"missing\" y department_id = 21\n",
    "\n",
    "- Se remplazaron los valores ausentes con 'Unknown' y se verifico nuevamente que no existieranan valores ausentes\n",
    "\n",
    "- Todos los valores ausentes en la columna 'days_since_prior_order' corresponden al primer pedido de cada cliente\n",
    "\n",
    "- Se encontro que el pedido minimo fue de una unidad y el maximo de 64 unds\n",
    "\n",
    "- Se encontraron 836 valores ausentes en la columna add_to_cart_order, en total 70 pedidos con valores ausentes, Los valores ausentes se reemplazaron por 999 para conservar las filas sin perder datos."
   ]
  },
  {
   "cell_type": "markdown",
   "id": "UjrOIwTcz3ri",
   "metadata": {
    "id": "UjrOIwTcz3ri"
   },
   "source": [
    "# 📊 Paso 3. Análisis de los datos"
   ]
  },
  {
   "cell_type": "markdown",
   "id": "turkish-kidney",
   "metadata": {
    "id": "turkish-kidney"
   },
   "source": [
    "# Parte [A]\n",
    "\n",
    "1. Verificar que los valores en las columnas `'order_hour_of_day'` y `'order_dow'` en la tabla orders sean razonables (es decir, `'order_hour_of_day'` oscile entre 0 y 23 y `'order_dow'` oscile entre 0 y 6).\n",
    "2. Crear un gráfico que muestre el número de personas que hacen pedidos dependiendo de la hora del día.\n",
    "3. Crear un gráfico que muestre qué día de la semana la gente hace sus compras.\n",
    "4. Crear un gráfico que muestre el tiempo que la gente espera hasta hacer su siguiente pedido, y comenta sobre los valores mínimos y máximos."
   ]
  },
  {
   "cell_type": "markdown",
   "id": "short-capability",
   "metadata": {
    "id": "short-capability"
   },
   "source": [
    "### [A1] Verificar que los valores sean sensibles"
   ]
  },
  {
   "cell_type": "code",
   "execution_count": 108,
   "id": "growing-fruit",
   "metadata": {
    "id": "growing-fruit"
   },
   "outputs": [
    {
     "name": "stdout",
     "output_type": "stream",
     "text": [
      "Valores únicos en 'order_hour_of_day': [np.int64(0), np.int64(1), np.int64(2), np.int64(3), np.int64(4), np.int64(5), np.int64(6), np.int64(7), np.int64(8), np.int64(9), np.int64(10), np.int64(11), np.int64(12), np.int64(13), np.int64(14), np.int64(15), np.int64(16), np.int64(17), np.int64(18), np.int64(19), np.int64(20), np.int64(21), np.int64(22), np.int64(23)]\n",
      "Valores únicos en 'order_dow': [np.int64(0), np.int64(1), np.int64(2), np.int64(3), np.int64(4), np.int64(5), np.int64(6)]\n",
      "\n",
      "Rango de horas: 0 a 23\n",
      "Rango de días: 0 a 6\n"
     ]
    }
   ],
   "source": [
    "#Verifica que los valores en las columnas 'order_hour_of_day' y 'order_dow' en la tabla orders sean razonables \n",
    "#(es decir, 'order_hour_of_day' oscile entre 0 y 23 y 'order_dow' oscile entre 0 y 6)\n",
    "\n",
    "# Verificar los valores únicos en 'order_hour_of_day' y 'order_dow'\n",
    "horas_unicas = df_instacart['order_hour_of_day'].unique()\n",
    "dias_unicos = df_instacart['order_dow'].unique()\n",
    "\n",
    "# Mostrar el rango mínimo y máximo de cada columna\n",
    "print(\"Valores únicos en 'order_hour_of_day':\", sorted(horas_unicas))\n",
    "print(\"Valores únicos en 'order_dow':\", sorted(dias_unicos))\n",
    "print()\n",
    "print(\"Rango de horas:\", df_instacart['order_hour_of_day'].min(), \"a\", df_instacart['order_hour_of_day'].max())\n",
    "print(\"Rango de días:\", df_instacart['order_dow'].min(), \"a\", df_instacart['order_dow'].max())"
   ]
  },
  {
   "cell_type": "markdown",
   "id": "hmR2GNQ6lCsX",
   "metadata": {
    "id": "hmR2GNQ6lCsX"
   },
   "source": [
    "### 📌 Descripcion breve de hallazgos.\n",
    "\n",
    "1. Todos los valores en las columnas order_hour_of_day y order_dow son razonables.\n",
    "2. 'order_hour_of_day' está dentro del rango de 0 a 23\n",
    "3. 'order_dow' está dentro del rango de 0 a 6\n",
    "4. No se encontraron valores fuera de esos rangos."
   ]
  },
  {
   "cell_type": "markdown",
   "id": "a6743a70",
   "metadata": {
    "id": "a6743a70"
   },
   "source": [
    "### [A2] Para cada hora del día, ¿cuántas personas hacen órdenes?"
   ]
  },
  {
   "cell_type": "code",
   "execution_count": 109,
   "id": "a36cca27",
   "metadata": {
    "id": "a36cca27"
   },
   "outputs": [
    {
     "data": {
      "image/png": "[encoded data removed]",
      "text/plain": [
       "<Figure size 1000x400 with 1 Axes>"
      ]
     },
     "metadata": {},
     "output_type": "display_data"
    }
   ],
   "source": [
    "# Agrupar por hora y contar usuarios únicos (user_id)\n",
    "usuarios_por_hora = df_instacart.groupby('order_hour_of_day')['user_id'].nunique()\n",
    "\n",
    "# Crear gráfico\n",
    "plt.figure(figsize=(10, 4))\n",
    "usuarios_por_hora.plot(kind='bar', color='skyblue')\n",
    "\n",
    "# Personalizar gráfico\n",
    "plt.title(\"Usuarios que realizan órdenes por hora del día\")\n",
    "plt.xlabel(\"Hora del día\")\n",
    "plt.ylabel(\"Número de usuarios\")\n",
    "plt.xticks(rotation=0)\n",
    "plt.grid(axis='y', linestyle='--', alpha=0.6)\n",
    "\n",
    "# Mostrar gráfico\n",
    "plt.show()"
   ]
  },
  {
   "cell_type": "markdown",
   "id": "11270eed",
   "metadata": {
    "id": "11270eed"
   },
   "source": [
    "### 📌 Descripcion breve de hallazgos.\n",
    "\n",
    "Entre las 10:00am y las 4:00pm mas de 3000 usuarios realizan ordenes.  "
   ]
  },
  {
   "cell_type": "markdown",
   "id": "documented-command",
   "metadata": {
    "id": "documented-command"
   },
   "source": [
    "### [A3] ¿Qué día de la semana compran víveres las personas?"
   ]
  },
  {
   "cell_type": "code",
   "execution_count": 110,
   "id": "chief-digit",
   "metadata": {
    "id": "chief-digit"
   },
   "outputs": [
    {
     "data": {
      "image/png": "[encoded data removed]",
      "text/plain": [
       "<Figure size 1000x400 with 1 Axes>"
      ]
     },
     "metadata": {},
     "output_type": "display_data"
    }
   ],
   "source": [
    "# Contar cuántas órdenes se hacen cada día (0=domingo, 6=sábado)\n",
    "ordenes_por_dia = df_instacart['order_dow'].value_counts().sort_index()\n",
    "\n",
    "# Días de la semana empezando en domingo\n",
    "dias_semana = ['Dom', 'Lun', 'Mar', 'Mié', 'Jue', 'Vie', 'Sáb']\n",
    "\n",
    "# Crear el gráfico\n",
    "plt.figure(figsize=(10, 4))\n",
    "ordenes_por_dia.plot(kind='bar', color='skyblue')\n",
    "plt.title(\"Órdenes por día de la semana\")\n",
    "plt.xlabel(\"Día de la semana\")\n",
    "plt.ylabel(\"Número de órdenes\")\n",
    "plt.xticks(ticks=range(7), labels=dias_semana, rotation=0)\n",
    "plt.grid(axis='y', linestyle='--', alpha=0.7)\n",
    "\n",
    "# Mostrar gráfico\n",
    "plt.show()"
   ]
  },
  {
   "cell_type": "markdown",
   "id": "dominant-lightning",
   "metadata": {
    "id": "dominant-lightning"
   },
   "source": [
    "### 📌 Descripcion breve de hallazgos.\n",
    "\n",
    "Todos los dias las personas compran viveres, sin embargo los dias Domingo y Lunes son los dias en que mas compras realizan "
   ]
  },
  {
   "cell_type": "markdown",
   "id": "cutting-concert",
   "metadata": {
    "id": "cutting-concert"
   },
   "source": [
    "### [A4] ¿Cuánto tiempo esperan las personas hasta hacer otro pedido? Comentar sobre los valores mínimos y máximos."
   ]
  },
  {
   "cell_type": "code",
   "execution_count": 111,
   "id": "c231f523",
   "metadata": {
    "id": "c231f523"
   },
   "outputs": [
    {
     "data": {
      "image/png": "[encoded data removed]",
      "text/plain": [
       "<Figure size 1000x400 with 1 Axes>"
      ]
     },
     "metadata": {},
     "output_type": "display_data"
    },
    {
     "name": "stdout",
     "output_type": "stream",
     "text": [
      "Valor mínimo: 0.0 días\n",
      "Valor máximo: 30.0 días\n"
     ]
    }
   ],
   "source": [
    "# Graficar la distribución del tiempo entre pedidos\n",
    "plt.figure(figsize=(10, 4))\n",
    "df_instacart['days_since_prior_order'].dropna().plot(kind='hist', bins=30, color='skyblue')\n",
    "\n",
    "# Personalizar gráfico\n",
    "plt.title(\"Distribución del tiempo entre pedidos\")\n",
    "plt.xlabel(\"Días desde el pedido anterior\")\n",
    "plt.ylabel(\"Numero de pedidos\")\n",
    "plt.xticks(ticks=range(0, 31))\n",
    "plt.grid(axis='y', linestyle='--', alpha=0.6)\n",
    "\n",
    "# Mostrar gráfico\n",
    "plt.show()\n",
    "\n",
    "# Calcular y mostrar valores mínimos y máximos\n",
    "minimo = df_instacart['days_since_prior_order'].min()\n",
    "maximo = df_instacart['days_since_prior_order'].max()\n",
    "print(f\"Valor mínimo: {minimo} días\\nValor máximo: {maximo} días\")"
   ]
  },
  {
   "cell_type": "markdown",
   "id": "discrete-vertex",
   "metadata": {
    "id": "discrete-vertex"
   },
   "source": [
    "### 📌 Descripcion breve de hallazgos.\n",
    "\n",
    "1. Hay dias en que se realizan pedidos el mismo dia y la frecuencia maxima son 30 dias.\n",
    "2. los 15 primeros dias se realizan 1000 pedidos o mas."
   ]
  },
  {
   "cell_type": "markdown",
   "id": "tight-staff",
   "metadata": {
    "id": "tight-staff"
   },
   "source": [
    "# Parte [B]\n",
    "\n",
    "1. ¿Existe alguna diferencia entre las distribuciones `'order_hour_of_day'` de los miércoles y los sábados? Traza gráficos de barra de `'order_hour_of_day'` para ambos días en la misma figura y describe las diferencias que observes.\n",
    "2. Grafica la distribución para el número de órdenes que hacen los clientes (es decir, cuántos clientes hicieron solo 1 pedido, cuántos hicieron 2, cuántos 3, y así sucesivamente...).\n",
    "3. ¿Cuáles son los 20 principales productos que se piden con más frecuencia (muestra su identificación y nombre)?"
   ]
  },
  {
   "cell_type": "markdown",
   "id": "packed-classic",
   "metadata": {
    "id": "packed-classic"
   },
   "source": [
    "### [B1] Diferencia entre miércoles y sábados para  `'order_hour_of_day'`. Trazar gráficos de barra para los dos días y describir las diferencias."
   ]
  },
  {
   "cell_type": "code",
   "execution_count": 112,
   "id": "d89b8403",
   "metadata": {
    "id": "d89b8403"
   },
   "outputs": [],
   "source": [
    "# Filtrar por miércoles (order_dow == 3) y sábado (order_dow == 6)\n",
    "orders_mie = df_instacart[df_instacart['order_dow'] == 3]\n",
    "orders_sab = df_instacart[df_instacart['order_dow'] == 6]"
   ]
  },
  {
   "cell_type": "code",
   "execution_count": 113,
   "id": "94e54e8a",
   "metadata": {
    "id": "94e54e8a"
   },
   "outputs": [],
   "source": [
    "# Contar pedidos por hora del día\n",
    "horas_mie = orders_mie['order_hour_of_day'].value_counts().sort_index()\n",
    "horas_sab = orders_sab['order_hour_of_day'].value_counts().sort_index()"
   ]
  },
  {
   "cell_type": "code",
   "execution_count": 114,
   "id": "797c90a8",
   "metadata": {
    "id": "797c90a8"
   },
   "outputs": [
    {
     "data": {
      "image/png": "[encoded data removed]",
      "text/plain": [
       "<Figure size 1000x400 with 1 Axes>"
      ]
     },
     "metadata": {},
     "output_type": "display_data"
    }
   ],
   "source": [
    "# Crear gráfico comparativo\n",
    "plt.figure(figsize=(10, 4))\n",
    "plt.bar(horas_mie.index - 0.2, horas_mie.values, width=0.4, label='Miércoles', color='skyblue')\n",
    "plt.bar(horas_sab.index + 0.2, horas_sab.values, width=0.4, label='Sábado', color='red')\n",
    "\n",
    "# Personalizar el gráfico\n",
    "plt.title(\"Distribución de pedidos por hora: Miércoles vs Sábado\")\n",
    "plt.xlabel(\"Hora del día\")\n",
    "plt.ylabel(\"Número de pedidos\")\n",
    "plt.xticks(range(0, 24))  # Mostrar todas las horas del día\n",
    "plt.legend()\n",
    "plt.grid(axis='y', linestyle='--', alpha=0.6)\n",
    "\n",
    "# Mostrar el gráfico\n",
    "plt.show()"
   ]
  },
  {
   "cell_type": "markdown",
   "id": "charitable-congo",
   "metadata": {
    "id": "charitable-congo"
   },
   "source": [
    "### 📌 Descripcion breve de hallazgos.\n",
    "\n",
    "1. Los dos días tienen una curva muy similar, con un aumento desde las 7 a.m. y un pico entre las 10 a.m. y 4 p.m.\n",
    "2. El Miércoles muestra ligeramente más pedidos en las primeras horas del día (6 a.m. – 10 a.m.).\n",
    "3. El Sábado tiene mas pedidos entre las 11 a.m. y las 5 p.m."
   ]
  },
  {
   "cell_type": "markdown",
   "id": "e3891143",
   "metadata": {
    "id": "e3891143"
   },
   "source": [
    "### [B2] ¿Cuál es la distribución para el número de pedidos por cliente?"
   ]
  },
  {
   "cell_type": "code",
   "execution_count": 115,
   "id": "d8c26c23",
   "metadata": {
    "id": "d8c26c23"
   },
   "outputs": [],
   "source": [
    "# Contar cuántos pedidos hizo cada cliente\n",
    "pedidos_por_cliente = df_instacart.groupby('user_id')['order_id'].count()\n",
    "\n",
    "# Ahora contar cuántos clientes hicieron X cantidad de pedidos\n",
    "distribucion_pedidos = pedidos_por_cliente.value_counts().sort_index()"
   ]
  },
  {
   "cell_type": "code",
   "execution_count": 116,
   "id": "00e69a66",
   "metadata": {
    "id": "00e69a66"
   },
   "outputs": [
    {
     "data": {
      "image/png": "[encoded data removed]",
      "text/plain": [
       "<Figure size 1000x400 with 1 Axes>"
      ]
     },
     "metadata": {},
     "output_type": "display_data"
    }
   ],
   "source": [
    "# Graficar\n",
    "plt.figure(figsize=(10, 4))\n",
    "distribucion_pedidos.plot(kind='bar', color='skyblue')\n",
    "\n",
    "# Personalización\n",
    "plt.title(\"Distribución del número de pedidos por cliente\")\n",
    "plt.xlabel(\"Cantidad de pedidos\")\n",
    "plt.ylabel(\"Número de clientes\")\n",
    "plt.grid(axis='y', linestyle='--', alpha=0.6)\n",
    "plt.xticks(rotation=-1) \n",
    "\n",
    "plt.show()"
   ]
  },
  {
   "cell_type": "markdown",
   "id": "d2eff7d5",
   "metadata": {
    "id": "d2eff7d5"
   },
   "source": [
    "### 📌 Descripcion breve de hallazgos.\n",
    "\n",
    "1. Mas de 30000 clientes realizaron al menos 2 pedidos.\n",
    "2. Mas de 20000 clientes realizaron al menos 3 pedidos.\n",
    "3. Hay una caída progresiva conforme aumenta el número de pedidos."
   ]
  },
  {
   "cell_type": "markdown",
   "id": "54a0319c",
   "metadata": {
    "id": "54a0319c"
   },
   "source": [
    "### [B3] ¿Cuáles son los 20 productos más populares (muestrar su ID y nombre)?"
   ]
  },
  {
   "cell_type": "code",
   "execution_count": 117,
   "id": "exterior-arizona",
   "metadata": {
    "id": "exterior-arizona",
    "scrolled": true
   },
   "outputs": [],
   "source": [
    "# Obtener los 20 productos más frecuentes por ID\n",
    "top_product_id = df_order['product_id'].value_counts().head(20)"
   ]
  },
  {
   "cell_type": "code",
   "execution_count": 118,
   "id": "universal-facial",
   "metadata": {
    "id": "universal-facial"
   },
   "outputs": [],
   "source": [
    "# Convertir a DataFrame para mantener orden\n",
    "top_products_df = top_product_id.reset_index()\n",
    "top_products_df.columns = ['product_id', 'order_count']"
   ]
  },
  {
   "cell_type": "code",
   "execution_count": 119,
   "id": "bbcdd20b",
   "metadata": {
    "id": "bbcdd20b"
   },
   "outputs": [
    {
     "name": "stdout",
     "output_type": "stream",
     "text": [
      "    product_id              product_name\n",
      "0        24852                    Banana\n",
      "1        13176    Bag of Organic Bananas\n",
      "2        21137      Organic Strawberries\n",
      "3        21903      Organic Baby Spinach\n",
      "4        47209      Organic Hass Avocado\n",
      "5        47766           Organic Avocado\n",
      "6        47626               Large Lemon\n",
      "7        16797              Strawberries\n",
      "8        26209                     Limes\n",
      "9        27845        Organic Whole Milk\n",
      "10       27966       Organic Raspberries\n",
      "11       22935      Organic Yellow Onion\n",
      "12       24964            Organic Garlic\n",
      "13       45007          Organic Zucchini\n",
      "14       39275       Organic Blueberries\n",
      "15       49683            Cucumber Kirby\n",
      "16       28204        Organic Fuji Apple\n",
      "17        5876             Organic Lemon\n",
      "18        8277  Apple Honeycrisp Organic\n",
      "19       40706    Organic Grape Tomatoes\n"
     ]
    }
   ],
   "source": [
    "# Unir con nombres de productos\n",
    "top_products_named = top_products_df.merge(\n",
    "    df_products[['product_id', 'product_name']],\n",
    "    on='product_id',\n",
    "    how='left')\n",
    "\n",
    "print(top_products_named[['product_id', 'product_name']])"
   ]
  },
  {
   "cell_type": "markdown",
   "id": "7df00f47",
   "metadata": {
    "id": "7df00f47"
   },
   "source": [
    "### 📌 Descripcion breve de hallazgos.\n",
    "\n",
    "1. La Banana es el producto mas popular, seguido de Bag of Organic Bananas y Organic Strawberries para completar el top 3."
   ]
  },
  {
   "cell_type": "markdown",
   "id": "gross-theme",
   "metadata": {
    "id": "gross-theme"
   },
   "source": [
    "# Parte [C]\n",
    "\n",
    "1. ¿Cuántos artículos suelen comprar las personas en un pedido? ¿Cómo es la distribución?\n",
    "2. ¿Cuáles son los 20 principales artículos que vuelven a pedirse con mayor frecuencia (muestra sus nombres e IDs de los productos)?\n",
    "3. Para cada producto, ¿cuál es la tasa de repetición del pedido (número de repeticiones de pedido/total de pedidos?\n",
    "4. Para cada cliente, ¿qué proporción de los productos que pidió ya los había pedido? Calcula la tasa de repetición de pedido para cada usuario en lugar de para cada producto.\n",
    "5. ¿Cuáles son los 20 principales artículos que la gente pone primero en sus carritos (muestra las IDs de los productos, sus nombres, y el número de veces en que fueron el primer artículo en añadirse al carrito)?"
   ]
  },
  {
   "cell_type": "markdown",
   "id": "romantic-deposit",
   "metadata": {
    "id": "romantic-deposit"
   },
   "source": [
    "### [C1] ¿Cuántos artículos compran normalmente las personas en un pedido? ¿Cómo es la distribución?"
   ]
  },
  {
   "cell_type": "code",
   "execution_count": 120,
   "id": "virtual-punch",
   "metadata": {
    "id": "virtual-punch"
   },
   "outputs": [
    {
     "name": "stdout",
     "output_type": "stream",
     "text": [
      "count    450046.000000\n",
      "mean         10.098983\n",
      "std           7.540206\n",
      "min           1.000000\n",
      "25%           5.000000\n",
      "50%           8.000000\n",
      "75%          14.000000\n",
      "max         127.000000\n",
      "Name: product_id, dtype: float64\n"
     ]
    }
   ],
   "source": [
    "# Unir ambos dataframes\n",
    "df_merged = pd.merge(df_order, df_instacart[['order_id', 'user_id']], on='order_id')\n",
    "\n",
    "# agrupar por user_id, order_id y contar product_id\n",
    "items_por_pedido_usuario = df_merged.groupby(['user_id', 'order_id'])['product_id'].count().reset_index()\n",
    "\n",
    "# Estadisticas basicas de artículos por usuario\n",
    "print(items_por_pedido_usuario[\"product_id\"].describe())"
   ]
  },
  {
   "cell_type": "code",
   "execution_count": 121,
   "id": "sensitive-breathing",
   "metadata": {
    "id": "sensitive-breathing"
   },
   "outputs": [
    {
     "data": {
      "image/png": "[encoded data removed]",
      "text/plain": [
       "<Figure size 1000x400 with 1 Axes>"
      ]
     },
     "metadata": {},
     "output_type": "display_data"
    }
   ],
   "source": [
    "# Graficar histograma\n",
    "plt.figure(figsize=(10, 4))\n",
    "plt.hist(items_por_pedido_usuario[\"product_id\"], bins=30, color='skyblue')\n",
    "plt.title(\"Distribución del número de artículos por pedido\")\n",
    "plt.xlabel(\"Número de artículos\")\n",
    "plt.ylabel(\"Frecuencia (número de pedidos)\")\n",
    "plt.grid(axis='y', linestyle='--', alpha=0.7)\n",
    "plt.tight_layout()\n",
    "plt.show()"
   ]
  },
  {
   "cell_type": "markdown",
   "id": "designed-mortality",
   "metadata": {
    "id": "designed-mortality"
   },
   "source": [
    "### 📌 Descripcion breve de hallazgos.\n",
    "\n",
    "1. En promedio las personas compran 10 articulos por pedido\n",
    "2. Al rededor de 80.000 ordenes de pedidos, tienen 10 articulos "
   ]
  },
  {
   "cell_type": "markdown",
   "id": "5e6b5537",
   "metadata": {
    "id": "5e6b5537"
   },
   "source": [
    "### [C2] ¿Cuáles son los 20 principales artículos que vuelven a pedirse con mayor frecuencia (muestrar sus nombres e IDs de los productos)?"
   ]
  },
  {
   "cell_type": "code",
   "execution_count": 122,
   "id": "9374e55a",
   "metadata": {
    "id": "9374e55a"
   },
   "outputs": [],
   "source": [
    "# Filtrar solo los productos reordenados\n",
    "productos_reordenados = df_order[df_order['reordered'] == 1]"
   ]
  },
  {
   "cell_type": "code",
   "execution_count": 123,
   "id": "possible-change",
   "metadata": {
    "id": "possible-change",
    "scrolled": true
   },
   "outputs": [],
   "source": [
    "# Contar cuántas veces se ha reordenado cada producto\n",
    "productos_reordenados_count = productos_reordenados.groupby('product_id').size().reset_index(name='reorder_count')"
   ]
  },
  {
   "cell_type": "code",
   "execution_count": 124,
   "id": "professional-surfing",
   "metadata": {
    "id": "professional-surfing",
    "scrolled": true
   },
   "outputs": [],
   "source": [
    "# Unir con la tabla de productos para obtener nombres de los productos\n",
    "productos_reordenados_unir = pd.merge(productos_reordenados_count, df_products, on='product_id', how='inner')"
   ]
  },
  {
   "cell_type": "code",
   "execution_count": 125,
   "id": "48dd3658",
   "metadata": {
    "id": "48dd3658"
   },
   "outputs": [],
   "source": [
    "# Ordenar por número de reordenes y seleccionar los 20 primeros\n",
    "productos_reordenados_top = productos_reordenados_unir.sort_values(by='reorder_count', ascending=False).head(20)"
   ]
  },
  {
   "cell_type": "code",
   "execution_count": 126,
   "id": "33c3cb7f-d003-4f28-a89f-472a23e8b302",
   "metadata": {},
   "outputs": [
    {
     "name": "stdout",
     "output_type": "stream",
     "text": [
      "Top 20 productos más reordenados:\n",
      "       product_id              product_name  reorder_count\n",
      "17837       24852                    Banana          55763\n",
      "9383        13176    Bag of Organic Bananas          44450\n",
      "15138       21137      Organic Strawberries          28639\n",
      "15698       21903      Organic Baby Spinach          26233\n",
      "33927       47209      Organic Hass Avocado          23629\n",
      "34337       47766           Organic Avocado          18743\n",
      "19995       27845        Organic Whole Milk          16251\n",
      "34234       47626               Large Lemon          15044\n",
      "20083       27966       Organic Raspberries          14748\n",
      "12010       16797              Strawberries          13945\n",
      "18811       26209                     Limes          13327\n",
      "16450       22935      Organic Yellow Onion          11145\n",
      "17919       24964            Organic Garlic          10411\n",
      "32338       45007          Organic Zucchini          10076\n",
      "35711       49683            Cucumber Kirby           9538\n",
      "20247       28204        Organic Fuji Apple           8989\n",
      "5891         8277  Apple Honeycrisp Organic           8836\n",
      "28216       39275       Organic Blueberries           8799\n",
      "4206         5876             Organic Lemon           8412\n",
      "35400       49235       Organic Half & Half           8389\n"
     ]
    }
   ],
   "source": [
    "# Mostrar resultados\n",
    "print(\"Top 20 productos más reordenados:\")\n",
    "print(productos_reordenados_top[['product_id', 'product_name', 'reorder_count']])"
   ]
  },
  {
   "cell_type": "markdown",
   "id": "80e70c74",
   "metadata": {
    "id": "80e70c74"
   },
   "source": [
    "### 📌 Descripcion breve de hallazgos.\n",
    "\n",
    "1. Banana es el producto con mayor cantidad de reordenamientos, seguido de Bag of Organic Bananas y completando el top 3 Organic Strawberries."
   ]
  },
  {
   "cell_type": "markdown",
   "id": "9d312b14",
   "metadata": {
    "id": "9d312b14"
   },
   "source": [
    "### [C3] Para cada producto, ¿cuál es la proporción de las veces que se pide y que se vuelve a pedir?"
   ]
  },
  {
   "cell_type": "code",
   "execution_count": 127,
   "id": "8ae9f4b1",
   "metadata": {
    "id": "8ae9f4b1"
   },
   "outputs": [],
   "source": [
    "# Combinar df_order con df_products para tener información del producto\n",
    "df_merged = pd.merge(df_order, df_products, on='product_id', how='left')"
   ]
  },
  {
   "cell_type": "code",
   "execution_count": 128,
   "id": "103e7fe1",
   "metadata": {
    "id": "103e7fe1"
   },
   "outputs": [],
   "source": [
    "# Agrupar por producto y calcular repedidos\n",
    "df_proporcion = df_merged.groupby(['product_id', 'product_name']).agg(total_pedidos=('order_id', 'count'), total_repedidos=('reordered', 'sum')\n",
    ").reset_index()\n",
    "#print(df_proporcion.head())"
   ]
  },
  {
   "cell_type": "code",
   "execution_count": 129,
   "id": "social-individual",
   "metadata": {
    "id": "social-individual"
   },
   "outputs": [],
   "source": [
    "# Calcular la proporción de cada reorden\n",
    "df_proporcion['proporcion_repedido'] = df_proporcion['total_repedidos'] / df_proporcion['total_pedidos']"
   ]
  },
  {
   "cell_type": "code",
   "execution_count": 130,
   "id": "94d65b45-40d9-4c29-ad09-a254db36da07",
   "metadata": {},
   "outputs": [
    {
     "data": {
      "text/html": [
       "<div>\n",
       "<style scoped>\n",
       "    .dataframe tbody tr th:only-of-type {\n",
       "        vertical-align: middle;\n",
       "    }\n",
       "\n",
       "    .dataframe tbody tr th {\n",
       "        vertical-align: top;\n",
       "    }\n",
       "\n",
       "    .dataframe thead th {\n",
       "        text-align: right;\n",
       "    }\n",
       "</style>\n",
       "<table border=\"1\" class=\"dataframe\">\n",
       "  <thead>\n",
       "    <tr style=\"text-align: right;\">\n",
       "      <th></th>\n",
       "      <th>product_id</th>\n",
       "      <th>product_name</th>\n",
       "      <th>total_pedidos</th>\n",
       "      <th>total_repedidos</th>\n",
       "      <th>proporcion_repedido</th>\n",
       "    </tr>\n",
       "  </thead>\n",
       "  <tbody>\n",
       "    <tr>\n",
       "      <th>22332</th>\n",
       "      <td>24852</td>\n",
       "      <td>Banana</td>\n",
       "      <td>66050</td>\n",
       "      <td>55763</td>\n",
       "      <td>0.844254</td>\n",
       "    </tr>\n",
       "    <tr>\n",
       "      <th>11772</th>\n",
       "      <td>13176</td>\n",
       "      <td>Bag of Organic Bananas</td>\n",
       "      <td>53297</td>\n",
       "      <td>44450</td>\n",
       "      <td>0.834006</td>\n",
       "    </tr>\n",
       "    <tr>\n",
       "      <th>18970</th>\n",
       "      <td>21137</td>\n",
       "      <td>Organic Strawberries</td>\n",
       "      <td>37039</td>\n",
       "      <td>28639</td>\n",
       "      <td>0.773212</td>\n",
       "    </tr>\n",
       "    <tr>\n",
       "      <th>19660</th>\n",
       "      <td>21903</td>\n",
       "      <td>Organic Baby Spinach</td>\n",
       "      <td>33971</td>\n",
       "      <td>26233</td>\n",
       "      <td>0.772217</td>\n",
       "    </tr>\n",
       "    <tr>\n",
       "      <th>42362</th>\n",
       "      <td>47209</td>\n",
       "      <td>Organic Hass Avocado</td>\n",
       "      <td>29773</td>\n",
       "      <td>23629</td>\n",
       "      <td>0.793639</td>\n",
       "    </tr>\n",
       "  </tbody>\n",
       "</table>\n",
       "</div>"
      ],
      "text/plain": [
       "       product_id            product_name  total_pedidos  total_repedidos  \\\n",
       "22332       24852                  Banana          66050            55763   \n",
       "11772       13176  Bag of Organic Bananas          53297            44450   \n",
       "18970       21137    Organic Strawberries          37039            28639   \n",
       "19660       21903    Organic Baby Spinach          33971            26233   \n",
       "42362       47209    Organic Hass Avocado          29773            23629   \n",
       "\n",
       "       proporcion_repedido  \n",
       "22332             0.844254  \n",
       "11772             0.834006  \n",
       "18970             0.773212  \n",
       "19660             0.772217  \n",
       "42362             0.793639  "
      ]
     },
     "execution_count": 130,
     "metadata": {},
     "output_type": "execute_result"
    }
   ],
   "source": [
    "# Visualizar resultados\n",
    "df_proporcion.sort_values(by='total_pedidos', ascending=False).head()"
   ]
  },
  {
   "cell_type": "markdown",
   "id": "I10dEIAyldcO",
   "metadata": {
    "id": "I10dEIAyldcO"
   },
   "source": [
    "### 📌 Descripcion breve de hallazgos.\n",
    "\n",
    "1. Banana es el producto con mas pedidos sumando un total de 66.050, un total de repedidos de 55.763 que corresponde a un 84.4% en repedidos\n",
    "2. Bag of Organic Bananas es el segundo produto mas pedido, totalizando 53.297, 44.450 en repedidos que corresponde al 83.4 % en repedidos\n",
    "3. Organic Strawberries cierran el top 3 de productos mas pedidos consiguiendo un total 37.039,\t28.639 en repedidos correspondientes al 77.3% en repedidos"
   ]
  },
  {
   "cell_type": "markdown",
   "id": "subject-boxing",
   "metadata": {
    "id": "subject-boxing"
   },
   "source": [
    "### [C4] Para cada cliente, ¿qué proporción de sus productos ya los había pedido?"
   ]
  },
  {
   "cell_type": "code",
   "execution_count": 131,
   "id": "medical-couple",
   "metadata": {
    "id": "medical-couple",
    "scrolled": true
   },
   "outputs": [],
   "source": [
    "# Combinar órdenes con productos por cliente, df_instacart con df_order\n",
    "df_cliente_producto = pd.merge(df_instacart[['order_id', 'user_id']], df_order[['order_id', 'product_id']], on=\"order_id\",  how='inner')"
   ]
  },
  {
   "cell_type": "code",
   "execution_count": 132,
   "id": "8892e4b4",
   "metadata": {
    "id": "8892e4b4"
   },
   "outputs": [],
   "source": [
    "# Identificar si un producto es nuevo o repetido por cliente\n",
    "\n",
    "# Contar cuántas veces ha aparecido cada (cliente, producto)\n",
    "df_cliente_producto['vez_pedido'] = df_cliente_producto.groupby(['user_id', 'product_id']).cumcount() + 1\n",
    "#df_cliente_producto[['user_id', 'product_id', 'vez_pedido']].head()"
   ]
  },
  {
   "cell_type": "code",
   "execution_count": 133,
   "id": "381558bd-8d77-41a4-b585-27d75c02fbae",
   "metadata": {},
   "outputs": [],
   "source": [
    "# Agrupar por cliente para calcular métricas\n",
    "\n",
    "# Para cada cliente, contar cuántos productos únicos ha pedido\n",
    "total_productos_unicos = df_cliente_producto.groupby('user_id')['product_id'].nunique().reset_index()\n",
    "total_productos_unicos.columns = ['user_id', 'total_productos']\n",
    "#total_productos_unicos.sample(5)"
   ]
  },
  {
   "cell_type": "code",
   "execution_count": 134,
   "id": "e287e585-4d67-469e-a5ff-60f03899b7df",
   "metadata": {},
   "outputs": [],
   "source": [
    "# Contar cuántos productos han sido repetidos (vez_pedido > 1)\n",
    "repetidos_por_cliente = df_cliente_producto[df_cliente_producto['vez_pedido'] > 1].groupby('user_id')['product_id'].nunique().reset_index()\n",
    "repetidos_por_cliente.columns = ['user_id', 'productos_repetidos']\n",
    "#repetidos_por_cliente.sample(10)"
   ]
  },
  {
   "cell_type": "code",
   "execution_count": 135,
   "id": "e198f297-bc30-4281-9141-690e9461aafd",
   "metadata": {},
   "outputs": [],
   "source": [
    "# Unir ambos resultados\n",
    "df_proporcion_cliente = pd.merge(total_productos_unicos, repetidos_por_cliente, on='user_id', how='left').fillna(0)\n",
    "#df_proporcion_cliente"
   ]
  },
  {
   "cell_type": "code",
   "execution_count": 136,
   "id": "b1b56928-83ca-40c1-9ba0-9381caee50ba",
   "metadata": {},
   "outputs": [
    {
     "data": {
      "text/html": [
       "<div>\n",
       "<style scoped>\n",
       "    .dataframe tbody tr th:only-of-type {\n",
       "        vertical-align: middle;\n",
       "    }\n",
       "\n",
       "    .dataframe tbody tr th {\n",
       "        vertical-align: top;\n",
       "    }\n",
       "\n",
       "    .dataframe thead th {\n",
       "        text-align: right;\n",
       "    }\n",
       "</style>\n",
       "<table border=\"1\" class=\"dataframe\">\n",
       "  <thead>\n",
       "    <tr style=\"text-align: right;\">\n",
       "      <th></th>\n",
       "      <th>user_id</th>\n",
       "      <th>total_productos</th>\n",
       "      <th>productos_repetidos</th>\n",
       "      <th>proporcion_repetidos</th>\n",
       "    </tr>\n",
       "  </thead>\n",
       "  <tbody>\n",
       "    <tr>\n",
       "      <th>10360</th>\n",
       "      <td>14221</td>\n",
       "      <td>2</td>\n",
       "      <td>2.0</td>\n",
       "      <td>1.0</td>\n",
       "    </tr>\n",
       "    <tr>\n",
       "      <th>148123</th>\n",
       "      <td>204120</td>\n",
       "      <td>2</td>\n",
       "      <td>2.0</td>\n",
       "      <td>1.0</td>\n",
       "    </tr>\n",
       "    <tr>\n",
       "      <th>16825</th>\n",
       "      <td>23146</td>\n",
       "      <td>2</td>\n",
       "      <td>2.0</td>\n",
       "      <td>1.0</td>\n",
       "    </tr>\n",
       "    <tr>\n",
       "      <th>42324</th>\n",
       "      <td>58515</td>\n",
       "      <td>1</td>\n",
       "      <td>1.0</td>\n",
       "      <td>1.0</td>\n",
       "    </tr>\n",
       "    <tr>\n",
       "      <th>69491</th>\n",
       "      <td>95854</td>\n",
       "      <td>1</td>\n",
       "      <td>1.0</td>\n",
       "      <td>1.0</td>\n",
       "    </tr>\n",
       "  </tbody>\n",
       "</table>\n",
       "</div>"
      ],
      "text/plain": [
       "        user_id  total_productos  productos_repetidos  proporcion_repetidos\n",
       "10360     14221                2                  2.0                   1.0\n",
       "148123   204120                2                  2.0                   1.0\n",
       "16825     23146                2                  2.0                   1.0\n",
       "42324     58515                1                  1.0                   1.0\n",
       "69491     95854                1                  1.0                   1.0"
      ]
     },
     "execution_count": 136,
     "metadata": {},
     "output_type": "execute_result"
    }
   ],
   "source": [
    "# Calcular la proporción\n",
    "df_proporcion_cliente['proporcion_repetidos'] = df_proporcion_cliente['productos_repetidos'] / df_proporcion_cliente['total_productos']\n",
    "df_proporcion_cliente.sort_values(by='proporcion_repetidos', ascending=False).head()"
   ]
  },
  {
   "cell_type": "markdown",
   "id": "BgJSvXDsleXz",
   "metadata": {
    "id": "BgJSvXDsleXz"
   },
   "source": [
    "### 📌 Descripcion breve de hallazgos.\n",
    "\n",
    "Existen clientes que han repetidos sus productos en sus pedidos hasta el 100% de las veces"
   ]
  },
  {
   "cell_type": "markdown",
   "id": "92d35137",
   "metadata": {
    "id": "92d35137"
   },
   "source": [
    "### [C5] ¿Cuáles son los 20 principales artículos que las personas ponen primero en sus carritos?"
   ]
  },
  {
   "cell_type": "code",
   "execution_count": 137,
   "id": "0ae57274",
   "metadata": {
    "id": "0ae57274",
    "scrolled": true
   },
   "outputs": [],
   "source": [
    "# Filtrar los productos que fueron agregados en primer lugar (add_to_cart_order == 1)\n",
    "primer_producto_por_orden = df_order[df_order['add_to_cart_order'] == 1]"
   ]
  },
  {
   "cell_type": "code",
   "execution_count": 138,
   "id": "forty-netherlands",
   "metadata": {
    "id": "forty-netherlands",
    "scrolled": true
   },
   "outputs": [],
   "source": [
    "# Contar cuántas veces aparece cada producto como \"primero\"\n",
    "conteo_primeros_productos = primer_producto_por_orden['product_id'].value_counts().reset_index()\n",
    "conteo_primeros_productos.columns = ['product_id', 'veces_primero']"
   ]
  },
  {
   "cell_type": "code",
   "execution_count": 139,
   "id": "08e41ec2",
   "metadata": {
    "id": "08e41ec2"
   },
   "outputs": [],
   "source": [
    "# Unir con nombres de productos\n",
    "top_primeros_productos = pd.merge(conteo_primeros_productos, df_products, on='product_id', how='inner')"
   ]
  },
  {
   "cell_type": "code",
   "execution_count": 140,
   "id": "fd5beaf3-267a-4aa3-a017-766b0cb02601",
   "metadata": {},
   "outputs": [
    {
     "data": {
      "text/html": [
       "<div>\n",
       "<style scoped>\n",
       "    .dataframe tbody tr th:only-of-type {\n",
       "        vertical-align: middle;\n",
       "    }\n",
       "\n",
       "    .dataframe tbody tr th {\n",
       "        vertical-align: top;\n",
       "    }\n",
       "\n",
       "    .dataframe thead th {\n",
       "        text-align: right;\n",
       "    }\n",
       "</style>\n",
       "<table border=\"1\" class=\"dataframe\">\n",
       "  <thead>\n",
       "    <tr style=\"text-align: right;\">\n",
       "      <th></th>\n",
       "      <th>product_id</th>\n",
       "      <th>veces_primero</th>\n",
       "      <th>product_name</th>\n",
       "      <th>aisle_id</th>\n",
       "      <th>department_id</th>\n",
       "      <th>product_name_upper</th>\n",
       "    </tr>\n",
       "  </thead>\n",
       "  <tbody>\n",
       "    <tr>\n",
       "      <th>0</th>\n",
       "      <td>24852</td>\n",
       "      <td>15562</td>\n",
       "      <td>Banana</td>\n",
       "      <td>24</td>\n",
       "      <td>4</td>\n",
       "      <td>BANANA</td>\n",
       "    </tr>\n",
       "    <tr>\n",
       "      <th>1</th>\n",
       "      <td>13176</td>\n",
       "      <td>11026</td>\n",
       "      <td>Bag of Organic Bananas</td>\n",
       "      <td>24</td>\n",
       "      <td>4</td>\n",
       "      <td>BAG OF ORGANIC BANANAS</td>\n",
       "    </tr>\n",
       "    <tr>\n",
       "      <th>2</th>\n",
       "      <td>27845</td>\n",
       "      <td>4363</td>\n",
       "      <td>Organic Whole Milk</td>\n",
       "      <td>84</td>\n",
       "      <td>16</td>\n",
       "      <td>ORGANIC WHOLE MILK</td>\n",
       "    </tr>\n",
       "    <tr>\n",
       "      <th>3</th>\n",
       "      <td>21137</td>\n",
       "      <td>3946</td>\n",
       "      <td>Organic Strawberries</td>\n",
       "      <td>24</td>\n",
       "      <td>4</td>\n",
       "      <td>ORGANIC STRAWBERRIES</td>\n",
       "    </tr>\n",
       "    <tr>\n",
       "      <th>4</th>\n",
       "      <td>47209</td>\n",
       "      <td>3390</td>\n",
       "      <td>Organic Hass Avocado</td>\n",
       "      <td>24</td>\n",
       "      <td>4</td>\n",
       "      <td>ORGANIC HASS AVOCADO</td>\n",
       "    </tr>\n",
       "    <tr>\n",
       "      <th>5</th>\n",
       "      <td>21903</td>\n",
       "      <td>3336</td>\n",
       "      <td>Organic Baby Spinach</td>\n",
       "      <td>123</td>\n",
       "      <td>4</td>\n",
       "      <td>ORGANIC BABY SPINACH</td>\n",
       "    </tr>\n",
       "    <tr>\n",
       "      <th>6</th>\n",
       "      <td>47766</td>\n",
       "      <td>3044</td>\n",
       "      <td>Organic Avocado</td>\n",
       "      <td>24</td>\n",
       "      <td>4</td>\n",
       "      <td>ORGANIC AVOCADO</td>\n",
       "    </tr>\n",
       "    <tr>\n",
       "      <th>7</th>\n",
       "      <td>19660</td>\n",
       "      <td>2336</td>\n",
       "      <td>Spring Water</td>\n",
       "      <td>115</td>\n",
       "      <td>7</td>\n",
       "      <td>SPRING WATER</td>\n",
       "    </tr>\n",
       "    <tr>\n",
       "      <th>8</th>\n",
       "      <td>16797</td>\n",
       "      <td>2308</td>\n",
       "      <td>Strawberries</td>\n",
       "      <td>24</td>\n",
       "      <td>4</td>\n",
       "      <td>STRAWBERRIES</td>\n",
       "    </tr>\n",
       "    <tr>\n",
       "      <th>9</th>\n",
       "      <td>27966</td>\n",
       "      <td>2024</td>\n",
       "      <td>Organic Raspberries</td>\n",
       "      <td>123</td>\n",
       "      <td>4</td>\n",
       "      <td>ORGANIC RASPBERRIES</td>\n",
       "    </tr>\n",
       "    <tr>\n",
       "      <th>10</th>\n",
       "      <td>44632</td>\n",
       "      <td>1914</td>\n",
       "      <td>Sparkling Water Grapefruit</td>\n",
       "      <td>115</td>\n",
       "      <td>7</td>\n",
       "      <td>SPARKLING WATER GRAPEFRUIT</td>\n",
       "    </tr>\n",
       "    <tr>\n",
       "      <th>11</th>\n",
       "      <td>49235</td>\n",
       "      <td>1797</td>\n",
       "      <td>Organic Half &amp; Half</td>\n",
       "      <td>53</td>\n",
       "      <td>16</td>\n",
       "      <td>ORGANIC HALF &amp; HALF</td>\n",
       "    </tr>\n",
       "    <tr>\n",
       "      <th>12</th>\n",
       "      <td>47626</td>\n",
       "      <td>1737</td>\n",
       "      <td>Large Lemon</td>\n",
       "      <td>24</td>\n",
       "      <td>4</td>\n",
       "      <td>LARGE LEMON</td>\n",
       "    </tr>\n",
       "    <tr>\n",
       "      <th>13</th>\n",
       "      <td>196</td>\n",
       "      <td>1733</td>\n",
       "      <td>Soda</td>\n",
       "      <td>77</td>\n",
       "      <td>7</td>\n",
       "      <td>SODA</td>\n",
       "    </tr>\n",
       "    <tr>\n",
       "      <th>14</th>\n",
       "      <td>38689</td>\n",
       "      <td>1397</td>\n",
       "      <td>Organic Reduced Fat Milk</td>\n",
       "      <td>84</td>\n",
       "      <td>16</td>\n",
       "      <td>ORGANIC REDUCED FAT MILK</td>\n",
       "    </tr>\n",
       "    <tr>\n",
       "      <th>15</th>\n",
       "      <td>26209</td>\n",
       "      <td>1370</td>\n",
       "      <td>Limes</td>\n",
       "      <td>24</td>\n",
       "      <td>4</td>\n",
       "      <td>LIMES</td>\n",
       "    </tr>\n",
       "    <tr>\n",
       "      <th>16</th>\n",
       "      <td>12341</td>\n",
       "      <td>1340</td>\n",
       "      <td>Hass Avocados</td>\n",
       "      <td>32</td>\n",
       "      <td>4</td>\n",
       "      <td>HASS AVOCADOS</td>\n",
       "    </tr>\n",
       "    <tr>\n",
       "      <th>17</th>\n",
       "      <td>5785</td>\n",
       "      <td>1310</td>\n",
       "      <td>Organic Reduced Fat 2% Milk</td>\n",
       "      <td>84</td>\n",
       "      <td>16</td>\n",
       "      <td>ORGANIC REDUCED FAT 2% MILK</td>\n",
       "    </tr>\n",
       "    <tr>\n",
       "      <th>18</th>\n",
       "      <td>27086</td>\n",
       "      <td>1309</td>\n",
       "      <td>Half &amp; Half</td>\n",
       "      <td>53</td>\n",
       "      <td>16</td>\n",
       "      <td>HALF &amp; HALF</td>\n",
       "    </tr>\n",
       "    <tr>\n",
       "      <th>19</th>\n",
       "      <td>22935</td>\n",
       "      <td>1246</td>\n",
       "      <td>Organic Yellow Onion</td>\n",
       "      <td>83</td>\n",
       "      <td>4</td>\n",
       "      <td>ORGANIC YELLOW ONION</td>\n",
       "    </tr>\n",
       "  </tbody>\n",
       "</table>\n",
       "</div>"
      ],
      "text/plain": [
       "    product_id  veces_primero                 product_name  aisle_id  \\\n",
       "0        24852          15562                       Banana        24   \n",
       "1        13176          11026       Bag of Organic Bananas        24   \n",
       "2        27845           4363           Organic Whole Milk        84   \n",
       "3        21137           3946         Organic Strawberries        24   \n",
       "4        47209           3390         Organic Hass Avocado        24   \n",
       "5        21903           3336         Organic Baby Spinach       123   \n",
       "6        47766           3044              Organic Avocado        24   \n",
       "7        19660           2336                 Spring Water       115   \n",
       "8        16797           2308                 Strawberries        24   \n",
       "9        27966           2024          Organic Raspberries       123   \n",
       "10       44632           1914   Sparkling Water Grapefruit       115   \n",
       "11       49235           1797          Organic Half & Half        53   \n",
       "12       47626           1737                  Large Lemon        24   \n",
       "13         196           1733                         Soda        77   \n",
       "14       38689           1397     Organic Reduced Fat Milk        84   \n",
       "15       26209           1370                        Limes        24   \n",
       "16       12341           1340                Hass Avocados        32   \n",
       "17        5785           1310  Organic Reduced Fat 2% Milk        84   \n",
       "18       27086           1309                  Half & Half        53   \n",
       "19       22935           1246         Organic Yellow Onion        83   \n",
       "\n",
       "    department_id           product_name_upper  \n",
       "0               4                       BANANA  \n",
       "1               4       BAG OF ORGANIC BANANAS  \n",
       "2              16           ORGANIC WHOLE MILK  \n",
       "3               4         ORGANIC STRAWBERRIES  \n",
       "4               4         ORGANIC HASS AVOCADO  \n",
       "5               4         ORGANIC BABY SPINACH  \n",
       "6               4              ORGANIC AVOCADO  \n",
       "7               7                 SPRING WATER  \n",
       "8               4                 STRAWBERRIES  \n",
       "9               4          ORGANIC RASPBERRIES  \n",
       "10              7   SPARKLING WATER GRAPEFRUIT  \n",
       "11             16          ORGANIC HALF & HALF  \n",
       "12              4                  LARGE LEMON  \n",
       "13              7                         SODA  \n",
       "14             16     ORGANIC REDUCED FAT MILK  \n",
       "15              4                        LIMES  \n",
       "16              4                HASS AVOCADOS  \n",
       "17             16  ORGANIC REDUCED FAT 2% MILK  \n",
       "18             16                  HALF & HALF  \n",
       "19              4         ORGANIC YELLOW ONION  "
      ]
     },
     "execution_count": 140,
     "metadata": {},
     "output_type": "execute_result"
    }
   ],
   "source": [
    "# Seleccionar los 20 principales\n",
    "top_20_primeros = top_primeros_productos.sort_values(by='veces_primero', ascending=False).head(20)\n",
    "top_20_primeros"
   ]
  },
  {
   "cell_type": "markdown",
   "id": "28ce9872",
   "metadata": {
    "id": "28ce9872"
   },
   "source": [
    "### 📌 Descripcion breve de hallazgos.\n",
    "\n",
    "De los 20 primeros productos que las personas ponen primero en sus carritos, el que mas veces se puso es la banana, con 15562 apariciones, el ultimo de este top 20 es Organic Yellow Onion con 1246 apariciones."
   ]
  },
  {
   "cell_type": "markdown",
   "id": "uITbFCEoDosC",
   "metadata": {
    "id": "uITbFCEoDosC"
   },
   "source": [
    "### 🧠 Conclusion general del proyecto:\n",
    "\n",
    "1. Horario de compras : Las órdenes tienden a concentrarse entre las 10:00 y 16:00, con picos mas altos entre las 13:00 y 14:00 los dias sabados.\n",
    "2. Tiempo entre pedidos : El promedio es de aproximadamente 9-10 días , con mínimos de 0 días (re-pedidos inmediatos) y máximos de hasta 30 días. Esto refleja hábitos regulares de compra.\n",
    "3. Patrones de consumo por día (miércoles vs sábado): Los sábados tienen picos más altos y extendidos durante el día, mientras que los miércoles muestran menor volumen de compras. lo cual indica que probablemente realizan compras en dia no laboral.\n",
    "4. Pedidos por cliente: La mayoría de clientes realiza entre 5 y 20 pedidos.\n",
    "5. Re-pedidos frecuentes: Muchos productos son re-pedidos constantemente, especialmente la banana.\n",
    "6. Primeros productos en el carrito: Los productos que suelen agregarse primero son similares a los más populares"
   ]
  }
 ],
 "metadata": {
  "colab": {
   "provenance": [
    {
     "file_id": "1aLGZ19-GYem3LZdYHuzuwYIeSw_tr0AT",
     "timestamp": 1689682143157
    }
   ]
  },
  "kernelspec": {
   "display_name": "Python 3",
   "language": "python",
   "name": "python3"
  },
  "language_info": {
   "codemirror_mode": {
    "name": "ipython",
    "version": 3
   },
   "file_extension": ".py",
   "mimetype": "text/x-python",
   "name": "python",
   "nbconvert_exporter": "python",
   "pygments_lexer": "ipython3",
   "version": "3.13.7"
  }
 },
 "nbformat": 4,
 "nbformat_minor": 5
}
